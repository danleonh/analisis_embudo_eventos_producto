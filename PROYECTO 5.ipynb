{
 "cells": [
  {
   "cell_type": "markdown",
   "metadata": {
    "id": "3rYiDeEH0q0f"
   },
   "source": [
    "# ¿Cuál es la mejor tarifa?\n",
    "\n",
    "Trabajas como analista para el operador de telecomunicaciones Megaline. La empresa ofrece a sus clientes dos tarifas de prepago, Surf y Ultimate. El departamento comercial quiere saber cuál de las tarifas genera más ingresos para poder ajustar el presupuesto de publicidad.\n",
    "\n",
    "Vas a realizar un análisis preliminar de las tarifas basado en una selección de clientes relativamente pequeña. Tendrás los datos de 500 clientes de Megaline: quiénes son los clientes, de dónde son, qué tarifa usan, así como la cantidad de llamadas que hicieron y los mensajes de texto que enviaron en 2018. Tu trabajo es analizar el comportamiento de los clientes y determinar qué tarifa de prepago genera más ingresos."
   ]
  },
  {
   "cell_type": "markdown",
   "metadata": {
    "id": "VNddPNRQ0q0w"
   },
   "source": [
    "[Te proporcionamos algunos comentarios para orientarte mientras completas este proyecto. Pero debes asegurarte de eliminar todos los comentarios entre corchetes antes de entregar tu proyecto.]\n",
    "\n",
    "[Antes de sumergirte en el análisis de datos, explica por tu propia cuenta el propósito del proyecto y las acciones que planeas realizar.]\n",
    "\n",
    "[Ten en cuenta que estudiar, modificar y analizar datos es un proceso iterativo. Es normal volver a los pasos anteriores y corregirlos/ampliarlos para permitir nuevos pasos.]"
   ]
  },
  {
   "cell_type": "markdown",
   "metadata": {
    "id": "MQi4IPy70q0y"
   },
   "source": [
    "## Inicialización"
   ]
  },
  {
   "cell_type": "code",
   "execution_count": 1,
   "metadata": {
    "id": "MtYIuBxu0q0z"
   },
   "outputs": [],
   "source": [
    "# Cargar todas las librerías\n",
    "import pandas as pd\n",
    "import numpy as np\n",
    "import matplotlib as mp\n",
    "import math as mh\n",
    "from matplotlib import pyplot as plt\n",
    "import scipy as sp\n",
    "from scipy import stats as st\n",
    "\n",
    "\n"
   ]
  },
  {
   "cell_type": "markdown",
   "metadata": {
    "id": "4ysWWC5i0q00"
   },
   "source": [
    "## Cargar datos"
   ]
  },
  {
   "cell_type": "code",
   "execution_count": 2,
   "metadata": {
    "id": "CCqPW7rS0q01"
   },
   "outputs": [],
   "source": [
    "# Carga los archivos de datos en diferentes DataFrames\n",
    "\n",
    "users = pd.read_csv('/Users/d.leon/Desktop/TRIPLETEN/PROYECTO 5/megaline_users.csv')\n",
    "calls = pd.read_csv('/Users/d.leon/Desktop/TRIPLETEN/PROYECTO 5/megaline_calls.csv')\n",
    "messages = pd.read_csv('/Users/d.leon/Desktop/TRIPLETEN/PROYECTO 5/megaline_messages.csv')\n",
    "internet = pd.read_csv('/Users/d.leon/Desktop/TRIPLETEN/PROYECTO 5/megaline_internet.csv')\n",
    "plans = pd.read_csv('/Users/d.leon/Desktop/TRIPLETEN/PROYECTO 5/megaline_plans.csv')"
   ]
  },
  {
   "cell_type": "markdown",
   "metadata": {
    "id": "69qqoJ3r0q01"
   },
   "source": [
    "## Preparar los datos"
   ]
  },
  {
   "cell_type": "markdown",
   "metadata": {
    "id": "vUuZw80S0q01"
   },
   "source": [
    "[Los datos para este proyecto se dividen en varias tablas. Explora cada una para tener una comprensión inicial de los datos. Si es necesario, haz las correcciones requeridas en cada tabla.]"
   ]
  },
  {
   "cell_type": "markdown",
   "metadata": {
    "id": "ohBhimvH0q01"
   },
   "source": [
    "## Tarifas"
   ]
  },
  {
   "cell_type": "code",
   "execution_count": 127,
   "metadata": {
    "id": "GptqP3Q40q02"
   },
   "outputs": [
    {
     "name": "stdout",
     "output_type": "stream",
     "text": [
      "<class 'pandas.core.frame.DataFrame'>\n",
      "RangeIndex: 2 entries, 0 to 1\n",
      "Data columns (total 8 columns):\n",
      " #   Column                 Non-Null Count  Dtype  \n",
      "---  ------                 --------------  -----  \n",
      " 0   messages_included      2 non-null      int64  \n",
      " 1   mb_per_month_included  2 non-null      int64  \n",
      " 2   minutes_included       2 non-null      int64  \n",
      " 3   usd_monthly_pay        2 non-null      int64  \n",
      " 4   usd_per_gb             2 non-null      int64  \n",
      " 5   usd_per_message        2 non-null      float64\n",
      " 6   usd_per_minute         2 non-null      float64\n",
      " 7   plan_name              2 non-null      object \n",
      "dtypes: float64(2), int64(5), object(1)\n",
      "memory usage: 260.0+ bytes\n",
      "None\n"
     ]
    }
   ],
   "source": [
    "# Imprime la información general/resumida sobre el DataFrame de las tarifas\n",
    "\n",
    "print(plans.info())"
   ]
  },
  {
   "cell_type": "code",
   "execution_count": 128,
   "metadata": {
    "id": "64xzjwL70q02"
   },
   "outputs": [
    {
     "name": "stdout",
     "output_type": "stream",
     "text": [
      "   messages_included  mb_per_month_included  minutes_included  \\\n",
      "0                 50                  15360               500   \n",
      "1               1000                  30720              3000   \n",
      "\n",
      "   usd_monthly_pay  usd_per_gb  usd_per_message  usd_per_minute plan_name  \n",
      "0               20          10             0.03            0.03      surf  \n",
      "1               70           7             0.01            0.01  ultimate  \n"
     ]
    }
   ],
   "source": [
    "# Imprime una muestra de los datos para las tarifas\n",
    "\n",
    "print(plans.head())"
   ]
  },
  {
   "cell_type": "markdown",
   "metadata": {
    "id": "mEc_3_hs0q02"
   },
   "source": [
    "[Describe lo que ves y observas en la información general y en la muestra de datos impresa para el precio de datos anterior. ¿Hay algún problema (tipos de datos no adecuados, datos ausentes, etc.) que pudieran necesitar investigación y cambios adicionales? ¿Cómo se puede arreglar?]"
   ]
  },
  {
   "cell_type": "markdown",
   "metadata": {},
   "source": [
    "- LOS NOMBRES DE LAS COLUMNAS ESTAN DE MANERA CORRECTA, NO SE NECESITAN MODIFICACIONES.\n",
    "- LOS TIPOS DE TEXTO SON CORRRECTOS DEPENDIENDO A SU CONTENIDO ASI QUE TAMPOCO NECESITAN CORRECCIONES."
   ]
  },
  {
   "cell_type": "markdown",
   "metadata": {
    "id": "R3C05i1l0q03"
   },
   "source": [
    "## Corregir datos"
   ]
  },
  {
   "cell_type": "markdown",
   "metadata": {
    "id": "bIi8StZI0q03"
   },
   "source": [
    "[Corrige los problemas obvios con los datos basándote en las observaciones iniciales.]"
   ]
  },
  {
   "cell_type": "code",
   "execution_count": 129,
   "metadata": {
    "id": "Y7SVmjGn0q03"
   },
   "outputs": [
    {
     "name": "stdout",
     "output_type": "stream",
     "text": [
      "<class 'pandas.core.frame.DataFrame'>\n",
      "RangeIndex: 2 entries, 0 to 1\n",
      "Data columns (total 8 columns):\n",
      " #   Column                 Non-Null Count  Dtype  \n",
      "---  ------                 --------------  -----  \n",
      " 0   messages_included      2 non-null      int64  \n",
      " 1   mb_per_month_included  2 non-null      int64  \n",
      " 2   minutes_included       2 non-null      int64  \n",
      " 3   usd_monthly_pay        2 non-null      int64  \n",
      " 4   usd_per_gb             2 non-null      float64\n",
      " 5   usd_per_message        2 non-null      float64\n",
      " 6   usd_per_minute         2 non-null      float64\n",
      " 7   plan_name              2 non-null      object \n",
      "dtypes: float64(3), int64(4), object(1)\n",
      "memory usage: 260.0+ bytes\n",
      "None\n"
     ]
    }
   ],
   "source": [
    "plans['usd_per_gb'] = plans['usd_per_gb'].astype(float)\n",
    "\n",
    "\n",
    "print(plans.info())"
   ]
  },
  {
   "cell_type": "markdown",
   "metadata": {
    "id": "LJir7bml0q03"
   },
   "source": [
    "## Enriquecer los datos"
   ]
  },
  {
   "cell_type": "markdown",
   "metadata": {
    "id": "eqADpCfg0q04"
   },
   "source": [
    "[Agrega factores adicionales a los datos si crees que pudieran ser útiles.]"
   ]
  },
  {
   "cell_type": "code",
   "execution_count": null,
   "metadata": {
    "id": "gfcIEuXV0q04"
   },
   "outputs": [],
   "source": []
  },
  {
   "cell_type": "markdown",
   "metadata": {
    "id": "1n2X6WXf0q04"
   },
   "source": [
    "## Usuarios/as"
   ]
  },
  {
   "cell_type": "code",
   "execution_count": 130,
   "metadata": {
    "id": "2NgjWFqx0q05"
   },
   "outputs": [
    {
     "name": "stdout",
     "output_type": "stream",
     "text": [
      "<class 'pandas.core.frame.DataFrame'>\n",
      "RangeIndex: 500 entries, 0 to 499\n",
      "Data columns (total 8 columns):\n",
      " #   Column      Non-Null Count  Dtype \n",
      "---  ------      --------------  ----- \n",
      " 0   user_id     500 non-null    int64 \n",
      " 1   first_name  500 non-null    object\n",
      " 2   last_name   500 non-null    object\n",
      " 3   age         500 non-null    int64 \n",
      " 4   city        500 non-null    object\n",
      " 5   reg_date    500 non-null    object\n",
      " 6   plan        500 non-null    object\n",
      " 7   churn_date  34 non-null     object\n",
      "dtypes: int64(2), object(6)\n",
      "memory usage: 31.4+ KB\n",
      "None\n"
     ]
    }
   ],
   "source": [
    "# Imprime la información general/resumida sobre el DataFrame de usuarios\n",
    "\n",
    "print(users.info())"
   ]
  },
  {
   "cell_type": "code",
   "execution_count": 131,
   "metadata": {
    "id": "1IN1L9uh0q05"
   },
   "outputs": [
    {
     "name": "stdout",
     "output_type": "stream",
     "text": [
      "     user_id first_name last_name  age  \\\n",
      "281     1281       Zack     Hardy   39   \n",
      "226     1226     Denver   Harrell   64   \n",
      "385     1385     Nohemi  Erickson   52   \n",
      "402     1402      Jesus     Berry   25   \n",
      "264     1264     Jessie      Hill   69   \n",
      "305     1305      Gwenn     Gross   18   \n",
      "44      1044     Devora  Galloway   74   \n",
      "491     1491     Terina    Jensen   22   \n",
      "473     1473       Kirk     Velez   61   \n",
      "436     1436    Jennine    Kinney   69   \n",
      "\n",
      "                                                city    reg_date      plan  \\\n",
      "281            Charlotte-Concord-Gastonia, NC-SC MSA  2018-07-23      surf   \n",
      "226         Riverside-San Bernardino-Ontario, CA MSA  2018-03-15  ultimate   \n",
      "385        New York-Newark-Jersey City, NY-NJ-PA MSA  2018-01-19      surf   \n",
      "402        New York-Newark-Jersey City, NY-NJ-PA MSA  2018-06-11      surf   \n",
      "264           Los Angeles-Long Beach-Anaheim, CA MSA  2018-05-03  ultimate   \n",
      "305           Los Angeles-Long Beach-Anaheim, CA MSA  2018-05-08      surf   \n",
      "44                               Albuquerque, NM MSA  2018-08-30      surf   \n",
      "491                    Grand Rapids-Kentwood, MI MSA  2018-04-27      surf   \n",
      "473           Louisville/Jefferson County, KY-IN MSA  2018-12-31      surf   \n",
      "436  Philadelphia-Camden-Wilmington, PA-NJ-DE-MD MSA  2018-08-26  ultimate   \n",
      "\n",
      "     churn_date  \n",
      "281  2018-11-14  \n",
      "226         NaN  \n",
      "385         NaN  \n",
      "402  2018-12-26  \n",
      "264         NaN  \n",
      "305         NaN  \n",
      "44          NaN  \n",
      "491  2018-09-18  \n",
      "473         NaN  \n",
      "436         NaN  \n"
     ]
    }
   ],
   "source": [
    "# Imprime una muestra de datos para usuarios\n",
    "print(users.sample(10))\n"
   ]
  },
  {
   "cell_type": "markdown",
   "metadata": {
    "id": "dCZoUq4f0q06"
   },
   "source": [
    "[Describe lo que ves y observas en la información general y en la muestra de datos impresa para el precio de datos anterior. ¿Hay algún problema (tipos de datos no adecuados, datos ausentes, etc.) que pudieran necesitar investigación y cambios adicionales? ¿Cómo se puede arreglar?]"
   ]
  },
  {
   "cell_type": "markdown",
   "metadata": {},
   "source": [
    "- TODOS LOS DATOS SON CORRECTOS EN LOS NOMBRES DE LAS COLUMNAS.\n",
    "- EL TIPO DE ELEMENTOS ES CORRECTO AL CONTENIDO QUE TIENE CADA COLUMNA A EXCEPCION DEL DATE TIME, TENDRE QUE CORREGIRLO.\n",
    "- NO HAY ELEMENTOS FALTANTES EN NINGUNA COLUMNA A EXCEPCION DEL 'CHURN_DATE' PERO ES PORQUE LOS USUARIOS NO HAN DEJADO DE UTILIZAR EL SERVICIO.\n",
    "- CAMBIARE EL TIPO DE ELEMENTO EN EL USERR ID PARA QUE SEA UN STRING."
   ]
  },
  {
   "cell_type": "markdown",
   "metadata": {
    "id": "BX5FQh_I0q06"
   },
   "source": [
    "### Corregir los datos"
   ]
  },
  {
   "cell_type": "markdown",
   "metadata": {
    "id": "8OdKMwJv0q06"
   },
   "source": [
    "[Corrige los problemas obvios con los datos basándote en las observaciones iniciales.]"
   ]
  },
  {
   "cell_type": "code",
   "execution_count": 132,
   "metadata": {
    "id": "yUqX-K0C0q07"
   },
   "outputs": [
    {
     "name": "stdout",
     "output_type": "stream",
     "text": [
      "<class 'pandas.core.frame.DataFrame'>\n",
      "RangeIndex: 500 entries, 0 to 499\n",
      "Data columns (total 8 columns):\n",
      " #   Column      Non-Null Count  Dtype         \n",
      "---  ------      --------------  -----         \n",
      " 0   user_id     500 non-null    object        \n",
      " 1   first_name  500 non-null    object        \n",
      " 2   last_name   500 non-null    object        \n",
      " 3   age         500 non-null    int64         \n",
      " 4   city        500 non-null    object        \n",
      " 5   reg_date    500 non-null    datetime64[ns]\n",
      " 6   plan_name   500 non-null    object        \n",
      " 7   churn_date  34 non-null     datetime64[ns]\n",
      "dtypes: datetime64[ns](2), int64(1), object(5)\n",
      "memory usage: 31.4+ KB\n",
      "None\n",
      "    user_id first_name last_name  age  \\\n",
      "462    1462     Lesley   Workman   20   \n",
      "82     1082    Dominic      Witt   64   \n",
      "87     1087     Lenard  Atkinson   45   \n",
      "\n",
      "                                                 city   reg_date plan_name  \\\n",
      "462              Las Vegas-Henderson-Paradise, NV MSA 2018-09-05  ultimate   \n",
      "82                              Memphis, TN-MS-AR MSA 2018-04-15      surf   \n",
      "87   Washington-Arlington-Alexandria, DC-VA-MD-WV MSA 2018-11-18      surf   \n",
      "\n",
      "    churn_date  \n",
      "462        NaT  \n",
      "82         NaT  \n",
      "87         NaT  \n"
     ]
    }
   ],
   "source": [
    "users['reg_date'] = pd.to_datetime(users['reg_date'], format='%Y-%m-%d')\n",
    "users['churn_date'] = pd.to_datetime(users['churn_date'], format='%Y-%m-%d')\n",
    "users.rename(columns= {'plan':'plan_name'}, inplace=True)\n",
    "users['user_id'] = users['user_id'].astype(str)\n",
    "print(users.info())\n",
    "\n",
    "print(users.sample(3))"
   ]
  },
  {
   "cell_type": "markdown",
   "metadata": {
    "id": "ycwuARJp0q07"
   },
   "source": [
    "### Enriquecer los datos"
   ]
  },
  {
   "cell_type": "markdown",
   "metadata": {
    "id": "96NIh4CJ0q08"
   },
   "source": [
    "[Agrega factores adicionales a los datos si crees que pudieran ser útiles.]"
   ]
  },
  {
   "cell_type": "code",
   "execution_count": null,
   "metadata": {
    "id": "iq0AaBS90q08"
   },
   "outputs": [],
   "source": []
  },
  {
   "cell_type": "markdown",
   "metadata": {
    "id": "o7MeKCid0q08"
   },
   "source": [
    "## Llamadas"
   ]
  },
  {
   "cell_type": "code",
   "execution_count": 133,
   "metadata": {
    "id": "6dDlnoDm0q08"
   },
   "outputs": [
    {
     "name": "stdout",
     "output_type": "stream",
     "text": [
      "<class 'pandas.core.frame.DataFrame'>\n",
      "RangeIndex: 137735 entries, 0 to 137734\n",
      "Data columns (total 4 columns):\n",
      " #   Column     Non-Null Count   Dtype  \n",
      "---  ------     --------------   -----  \n",
      " 0   id         137735 non-null  object \n",
      " 1   user_id    137735 non-null  int64  \n",
      " 2   call_date  137735 non-null  object \n",
      " 3   duration   137735 non-null  float64\n",
      "dtypes: float64(1), int64(1), object(2)\n",
      "memory usage: 4.2+ MB\n",
      "None\n"
     ]
    }
   ],
   "source": [
    "# Imprime la información general/resumida sobre el DataFrame de las llamadas\n",
    "\n",
    "print(calls.info())"
   ]
  },
  {
   "cell_type": "code",
   "execution_count": 134,
   "metadata": {
    "id": "kuh1vlNB0q09"
   },
   "outputs": [
    {
     "name": "stdout",
     "output_type": "stream",
     "text": [
      "              id  user_id   call_date  duration\n",
      "55501    1199_44     1199  2018-11-22     11.83\n",
      "126100  1446_344     1446  2018-12-28      7.34\n",
      "110234  1389_280     1389  2018-10-03     11.54\n",
      "136695  1495_135     1495  2018-11-12      3.49\n",
      "111024  1390_473     1390  2018-12-13      0.00\n",
      "124372  1439_240     1439  2018-11-30      7.66\n",
      "3805     1015_50     1015  2018-12-12      0.00\n",
      "107318   1381_55     1381  2018-10-17      0.52\n",
      "123197  1434_539     1434  2018-03-29      0.96\n",
      "41287   1152_228     1152  2018-11-29      9.49\n"
     ]
    }
   ],
   "source": [
    "# Imprime una muestra de datos para las llamadas\n",
    "\n",
    "print(calls.sample(10))"
   ]
  },
  {
   "cell_type": "markdown",
   "metadata": {
    "id": "DOAxYJSx0q09"
   },
   "source": [
    "[Describe lo que ves y observas en la información general y en la muestra de datos impresa para el precio de datos anterior. ¿Hay algún problema (tipos de datos no adecuados, datos ausentes, etc.) que pudieran necesitar investigación y cambios adicionales? ¿Cómo se puede arreglar?]"
   ]
  },
  {
   "cell_type": "markdown",
   "metadata": {},
   "source": [
    "- LOS ID DE LLAMADAS INICIAN CON EL ID DEL USUARIO Y LUEGO CON EL NUMERO DE LLAMADA QUE ES.\n",
    "- LA DURACION DE LAS LLAMADAS ES EN MINUTOS, SIN EMBARGO LA COLUMNA DE DURACION ESTA EN UNA BASE DE CENTIMOS, CREO QUE PODRIAMOS CORREGIRLO A QUE SE BASE A MINUTOS ESPECIFICAMENTE (DE 60 EN 60 SEGUNDOS) AGREGANDO UNA COLUMNA DONDE SE IDENTIFIQUE COMO MINUTOS REALES.\n",
    "- CAMBIAR EL NOMBRE DE LA COLUMNA id POR call_id, ESTO PARA TENER INFORMACION MAS CONCRETA.\n",
    "- CAMBIAR EL TIPO DE INFORMACION EN LA COLUMNA DE FECHA."
   ]
  },
  {
   "cell_type": "markdown",
   "metadata": {
    "id": "S7hzxmbX0q0-"
   },
   "source": [
    "### Corregir los datos"
   ]
  },
  {
   "cell_type": "markdown",
   "metadata": {
    "id": "YxWyAjD20q0-"
   },
   "source": [
    "[Corrige los problemas obvios con los datos basándote en las observaciones iniciales.]"
   ]
  },
  {
   "cell_type": "code",
   "execution_count": 135,
   "metadata": {},
   "outputs": [],
   "source": [
    "#Cambio de nombre de columna 'id'\n",
    "calls.rename(columns={'id':'call_id'}, inplace=True)\n",
    "calls['call_date'] = pd.to_datetime(calls['call_date'])"
   ]
  },
  {
   "cell_type": "markdown",
   "metadata": {
    "id": "KrMgTrlG0q0_"
   },
   "source": [
    "### Enriquecer los datos"
   ]
  },
  {
   "cell_type": "markdown",
   "metadata": {
    "id": "a9MbmEvE0q0_"
   },
   "source": [
    "[Agrega factores adicionales a los datos si crees que pudieran ser útiles.]"
   ]
  },
  {
   "cell_type": "code",
   "execution_count": 136,
   "metadata": {
    "id": "iZ1avpA_0q0_"
   },
   "outputs": [
    {
     "name": "stdout",
     "output_type": "stream",
     "text": [
      "<class 'pandas.core.frame.DataFrame'>\n",
      "RangeIndex: 137735 entries, 0 to 137734\n",
      "Data columns (total 5 columns):\n",
      " #   Column        Non-Null Count   Dtype         \n",
      "---  ------        --------------   -----         \n",
      " 0   call_id       137735 non-null  object        \n",
      " 1   user_id       137735 non-null  int64         \n",
      " 2   call_date     137735 non-null  datetime64[ns]\n",
      " 3   duration      137735 non-null  float64       \n",
      " 4   real_minutes  137735 non-null  float64       \n",
      "dtypes: datetime64[ns](1), float64(2), int64(1), object(1)\n",
      "memory usage: 5.3+ MB\n",
      "None\n",
      "-------------------------\n",
      "         call_id  user_id  call_date  duration  real_minutes\n",
      "75029   1264_381     1264 2018-12-22     10.06        10.036\n",
      "24817   1095_136     1095 2018-09-28      2.58         2.348\n",
      "40559    1150_10     1150 2018-09-29      5.87         5.522\n",
      "65038   1236_319     1236 2018-06-06      9.50         9.300\n",
      "115800   1406_26     1406 2018-08-04      0.00         0.000\n"
     ]
    }
   ],
   "source": [
    "#Agregar una columna nueva con los minutos reales.\n",
    "calls['real_minutes'] = calls['duration'].astype(int) + (calls['duration']%1)*60/100\n",
    "\n",
    "print(calls.info())\n",
    "print('-------------------------')\n",
    "print(calls.sample(5))"
   ]
  },
  {
   "cell_type": "markdown",
   "metadata": {},
   "source": [
    "## OBSERVACIONES:\n",
    "\n",
    "PODRIAMOS PENSAR QUE LAS LLAMADAS QUE TIENEN UNA DRURACION DE 0.00 ES PORQUE EN ESTAS OCACIONES LA PERSONA A LA QUE LLAMABAN NO RESPONDIERON."
   ]
  },
  {
   "cell_type": "markdown",
   "metadata": {
    "id": "mOUZSi180q0_"
   },
   "source": [
    "## Mensajes"
   ]
  },
  {
   "cell_type": "code",
   "execution_count": 137,
   "metadata": {
    "id": "R-bYJpdV0q1A"
   },
   "outputs": [
    {
     "name": "stdout",
     "output_type": "stream",
     "text": [
      "<class 'pandas.core.frame.DataFrame'>\n",
      "RangeIndex: 76051 entries, 0 to 76050\n",
      "Data columns (total 3 columns):\n",
      " #   Column        Non-Null Count  Dtype \n",
      "---  ------        --------------  ----- \n",
      " 0   id            76051 non-null  object\n",
      " 1   user_id       76051 non-null  int64 \n",
      " 2   message_date  76051 non-null  object\n",
      "dtypes: int64(1), object(2)\n",
      "memory usage: 1.7+ MB\n",
      "None\n"
     ]
    }
   ],
   "source": [
    "# Imprime la información general/resumida sobre el DataFrame de los mensajes\n",
    "print(messages.info())\n"
   ]
  },
  {
   "cell_type": "code",
   "execution_count": 138,
   "metadata": {
    "id": "mCEl2iGE0q1A"
   },
   "outputs": [
    {
     "name": "stdout",
     "output_type": "stream",
     "text": [
      "             id  user_id message_date\n",
      "68935    1447_3     1447   2018-12-10\n",
      "45362    1305_2     1305   2018-08-01\n",
      "5891     1055_9     1055   2018-06-03\n",
      "73818  1474_186     1474   2018-09-28\n",
      "64409   1410_64     1410   2018-10-12\n",
      "15129  1101_186     1101   2018-06-12\n",
      "10277  1076_642     1076   2018-12-21\n",
      "28446  1174_236     1174   2018-07-21\n",
      "54442  1343_544     1343   2018-10-11\n",
      "52964   1339_98     1339   2018-08-06\n"
     ]
    }
   ],
   "source": [
    "# Imprime una muestra de datos para los mensajes\n",
    "\n",
    "print(messages.sample(10))"
   ]
  },
  {
   "cell_type": "markdown",
   "metadata": {
    "id": "04xDj7KH0q1A"
   },
   "source": [
    "[Describe lo que ves y observas en la información general y en la muestra de datos impresa para el precio de datos anterior. ¿Hay algún problema (tipos de datos no adecuados, datos ausentes, etc.) que pudieran necesitar investigación y cambios adicionales? ¿Cómo se puede arreglar?]"
   ]
  },
  {
   "cell_type": "markdown",
   "metadata": {},
   "source": [
    "- PASA LO MISMO QUE PASABA CON LAS LLAMADAS, LA COLUMNA id PUEDE CONFUNDIR, ASI QUE CAMBIARE EL NOMBRE A message_id.\n",
    "- CAMBIAR A TIPO DE FECHA LA COLUMNA message_date.\n"
   ]
  },
  {
   "cell_type": "markdown",
   "metadata": {
    "id": "Sprfak900q1B"
   },
   "source": [
    "### Corregir los datos"
   ]
  },
  {
   "cell_type": "markdown",
   "metadata": {
    "id": "eGw7d9j10q1B"
   },
   "source": [
    "[Corrige los problemas obvios con los datos basándote en las observaciones iniciales.]"
   ]
  },
  {
   "cell_type": "code",
   "execution_count": 139,
   "metadata": {
    "id": "vsllvkoa0q1B"
   },
   "outputs": [
    {
     "name": "stdout",
     "output_type": "stream",
     "text": [
      "<class 'pandas.core.frame.DataFrame'>\n",
      "RangeIndex: 76051 entries, 0 to 76050\n",
      "Data columns (total 3 columns):\n",
      " #   Column        Non-Null Count  Dtype         \n",
      "---  ------        --------------  -----         \n",
      " 0   message_id    76051 non-null  object        \n",
      " 1   user_id       76051 non-null  int64         \n",
      " 2   message_date  76051 non-null  datetime64[ns]\n",
      "dtypes: datetime64[ns](1), int64(1), object(1)\n",
      "memory usage: 1.7+ MB\n",
      "None\n"
     ]
    }
   ],
   "source": [
    "messages.rename(columns={'id':'message_id'}, inplace=True)\n",
    "messages['message_date'] = pd.to_datetime(messages['message_date'])\n",
    "print(messages.info())"
   ]
  },
  {
   "cell_type": "markdown",
   "metadata": {
    "id": "HvLid7iD0q1B"
   },
   "source": [
    "### Enriquecer los datos"
   ]
  },
  {
   "cell_type": "markdown",
   "metadata": {
    "id": "8nhPFKIe0q1C"
   },
   "source": [
    "[Agrega factores adicionales a los datos si crees que pudieran ser útiles.]"
   ]
  },
  {
   "cell_type": "code",
   "execution_count": null,
   "metadata": {
    "id": "zYEXZac10q1C"
   },
   "outputs": [],
   "source": []
  },
  {
   "cell_type": "markdown",
   "metadata": {
    "id": "bStkaxn40q1C"
   },
   "source": [
    "## Internet"
   ]
  },
  {
   "cell_type": "code",
   "execution_count": 140,
   "metadata": {
    "id": "e-Uz5qyn0q1C"
   },
   "outputs": [
    {
     "name": "stdout",
     "output_type": "stream",
     "text": [
      "<class 'pandas.core.frame.DataFrame'>\n",
      "RangeIndex: 104825 entries, 0 to 104824\n",
      "Data columns (total 4 columns):\n",
      " #   Column        Non-Null Count   Dtype  \n",
      "---  ------        --------------   -----  \n",
      " 0   id            104825 non-null  object \n",
      " 1   user_id       104825 non-null  int64  \n",
      " 2   session_date  104825 non-null  object \n",
      " 3   mb_used       104825 non-null  float64\n",
      "dtypes: float64(1), int64(1), object(2)\n",
      "memory usage: 3.2+ MB\n",
      "None\n"
     ]
    }
   ],
   "source": [
    "# Imprime la información general/resumida sobre el DataFrame de internet\n",
    "\n",
    "print(internet.info())"
   ]
  },
  {
   "cell_type": "code",
   "execution_count": 141,
   "metadata": {
    "id": "9r3x_XLw0q1C"
   },
   "outputs": [
    {
     "name": "stdout",
     "output_type": "stream",
     "text": [
      "         id  user_id session_date  mb_used\n",
      "0   1000_13     1000   2018-12-29    89.86\n",
      "1  1000_204     1000   2018-12-31     0.00\n",
      "2  1000_379     1000   2018-12-28   660.40\n",
      "3  1000_413     1000   2018-12-26   270.99\n",
      "4  1000_442     1000   2018-12-27   880.22\n",
      "5    1001_0     1001   2018-08-24   284.68\n",
      "6    1001_3     1001   2018-12-09   656.04\n",
      "7    1001_4     1001   2018-11-04    16.97\n",
      "8   1001_10     1001   2018-11-27   135.18\n",
      "9   1001_15     1001   2018-12-13   761.92\n"
     ]
    }
   ],
   "source": [
    "# Imprime una muestra de datos para el tráfico de internet\n",
    "print(internet.head(10))\n"
   ]
  },
  {
   "cell_type": "markdown",
   "metadata": {
    "id": "EzOG5ik30q1D"
   },
   "source": [
    "[Describe lo que ves y observas en la información general y en la muestra de datos impresa para el precio de datos anterior. ¿Hay algún problema (tipos de datos no adecuados, datos ausentes, etc.) que pudieran necesitar investigación y cambios adicionales? ¿Cómo se puede arreglar?]"
   ]
  },
  {
   "cell_type": "markdown",
   "metadata": {},
   "source": [
    "- CORREGIRE COMO ANTERIORMENTE EL NOMBREE DE LA COLUMNA id  PARA DAR UNA INFORMACION MAS CLARA.\n",
    "- CAMBIO DE TIPO EN FECHA.\n",
    "- AQUI PODREMOS OBSERVAR QUE ESTA EN MEGABYTES Y TENDREMOS QUE CONVERTIRLO A GB."
   ]
  },
  {
   "cell_type": "markdown",
   "metadata": {
    "id": "yA0tkPFg0q1D"
   },
   "source": [
    "### Corregir los datos"
   ]
  },
  {
   "cell_type": "markdown",
   "metadata": {
    "id": "zlZMuIEK0q1D"
   },
   "source": [
    "[Corrige los problemas obvios con los datos basándote en las observaciones iniciales.]"
   ]
  },
  {
   "cell_type": "code",
   "execution_count": 142,
   "metadata": {
    "id": "zVeanzdd0q1E"
   },
   "outputs": [
    {
     "name": "stdout",
     "output_type": "stream",
     "text": [
      "<class 'pandas.core.frame.DataFrame'>\n",
      "RangeIndex: 104825 entries, 0 to 104824\n",
      "Data columns (total 4 columns):\n",
      " #   Column        Non-Null Count   Dtype         \n",
      "---  ------        --------------   -----         \n",
      " 0   session_id    104825 non-null  object        \n",
      " 1   user_id       104825 non-null  int64         \n",
      " 2   session_date  104825 non-null  datetime64[ns]\n",
      " 3   mb_used       104825 non-null  float64       \n",
      "dtypes: datetime64[ns](1), float64(1), int64(1), object(1)\n",
      "memory usage: 3.2+ MB\n",
      "None\n"
     ]
    }
   ],
   "source": [
    "internet.rename(columns={'id':'session_id'}, inplace=True)\n",
    "internet['session_date'] = pd.to_datetime(internet['session_date'])\n",
    "print(internet.info())"
   ]
  },
  {
   "cell_type": "markdown",
   "metadata": {
    "id": "e8_mLF4a0q1E"
   },
   "source": [
    "### Enriquecer los datos"
   ]
  },
  {
   "cell_type": "markdown",
   "metadata": {
    "id": "xhNdn2tE0q1E"
   },
   "source": [
    "[Agrega factores adicionales a los datos si crees que pudieran ser útiles.]"
   ]
  },
  {
   "cell_type": "code",
   "execution_count": null,
   "metadata": {
    "id": "ESiYPIEK0q1E"
   },
   "outputs": [],
   "source": []
  },
  {
   "cell_type": "markdown",
   "metadata": {
    "id": "3UA2cqIW0q1E"
   },
   "source": [
    "## Estudiar las condiciones de las tarifas"
   ]
  },
  {
   "cell_type": "markdown",
   "metadata": {
    "id": "T86Sqltq0q1F"
   },
   "source": [
    "[Es sumamente importante entender cómo funcionan las tarifas, cómo se les cobra a los usuarios en función de su plan de suscripción. Así que te sugerimos imprimir la información de la tarifa para ver una vez más sus condiciones.]"
   ]
  },
  {
   "cell_type": "code",
   "execution_count": 143,
   "metadata": {
    "id": "i409op8p0q1F"
   },
   "outputs": [
    {
     "name": "stdout",
     "output_type": "stream",
     "text": [
      "   messages_included  mb_per_month_included  minutes_included  \\\n",
      "0                 50                  15360               500   \n",
      "1               1000                  30720              3000   \n",
      "\n",
      "   usd_monthly_pay  usd_per_gb  usd_per_message  usd_per_minute plan_name  \n",
      "0               20        10.0             0.03            0.03      surf  \n",
      "1               70         7.0             0.01            0.01  ultimate  \n"
     ]
    }
   ],
   "source": [
    "# Imprime las condiciones de la tarifa y asegúrate de que te quedan claras\n",
    "print(plans)\n"
   ]
  },
  {
   "cell_type": "markdown",
   "metadata": {
    "id": "hMR1tP5d0q1F"
   },
   "source": [
    "## Agregar datos por usuario\n",
    "\n",
    "[Ahora que los datos están limpios, agrega los datos por usuario y por periodo para que solo haya un registro por usuario y por periodo. Esto facilitará mucho el análisis posterior.]"
   ]
  },
  {
   "cell_type": "code",
   "execution_count": 144,
   "metadata": {
    "id": "A332cedB0q1G"
   },
   "outputs": [
    {
     "name": "stdout",
     "output_type": "stream",
     "text": [
      "   user_id year_month  total_calls\n",
      "0     1000    2018-12           16\n",
      "1     1001    2018-08           27\n",
      "2     1001    2018-09           49\n",
      "3     1001    2018-10           65\n",
      "4     1001    2018-11           64\n",
      "5     1001    2018-12           56\n",
      "6     1002    2018-10           11\n",
      "7     1002    2018-11           55\n",
      "8     1002    2018-12           47\n",
      "9     1003    2018-12          149\n"
     ]
    }
   ],
   "source": [
    "# Calcula el número de llamadas hechas por cada usuario al mes. Guarda el resultado.\n",
    "calls['year_month'] = calls['call_date'].dt.to_period('M')\n",
    "calls_per_month = calls.groupby(['user_id', 'year_month'])['user_id'].size().reset_index(name='total_calls')\n",
    "\n",
    "print(calls_per_month.head(10))"
   ]
  },
  {
   "cell_type": "code",
   "execution_count": 145,
   "metadata": {
    "id": "aw2cmuql0q1G"
   },
   "outputs": [
    {
     "name": "stdout",
     "output_type": "stream",
     "text": [
      "   user_id year_month  total_minutes\n",
      "0     1000    2018-12             16\n",
      "1     1001    2018-08             27\n",
      "2     1001    2018-09             49\n",
      "3     1001    2018-10             65\n",
      "4     1001    2018-11             64\n",
      "5     1001    2018-12             56\n",
      "6     1002    2018-10             11\n",
      "7     1002    2018-11             55\n",
      "8     1002    2018-12             47\n",
      "9     1003    2018-12            149\n"
     ]
    }
   ],
   "source": [
    "# Calcula la cantidad de minutos usados por cada usuario al mes. Guarda el resultado.\n",
    "calls['year_month'] = calls['call_date'].dt.to_period('M')\n",
    "minutes_per_month = calls.groupby(['user_id', 'year_month'])['real_minutes'].count().reset_index(name='total_minutes')\n",
    "\n",
    "print(minutes_per_month.head(10))"
   ]
  },
  {
   "cell_type": "code",
   "execution_count": 146,
   "metadata": {
    "id": "CcQvNHn60q1G"
   },
   "outputs": [
    {
     "name": "stdout",
     "output_type": "stream",
     "text": [
      "   user_id year_month  total_messages\n",
      "0     1000    2018-12              11\n",
      "1     1001    2018-08              30\n",
      "2     1001    2018-09              44\n",
      "3     1001    2018-10              53\n",
      "4     1001    2018-11              36\n",
      "5     1001    2018-12              44\n",
      "6     1002    2018-10              15\n",
      "7     1002    2018-11              32\n",
      "8     1002    2018-12              41\n",
      "9     1003    2018-12              50\n"
     ]
    }
   ],
   "source": [
    "# Calcula el número de mensajes enviados por cada usuario al mes. Guarda el resultado.\n",
    "messages['year_month'] = messages['message_date'].dt.to_period('M')\n",
    "messages_per_month = messages.groupby(['user_id', 'year_month'])['message_id'].count().reset_index(name='total_messages')\n",
    "\n",
    "print(messages_per_month.head(10))"
   ]
  },
  {
   "cell_type": "code",
   "execution_count": 147,
   "metadata": {
    "id": "H1AqN2eG0q1H"
   },
   "outputs": [
    {
     "name": "stdout",
     "output_type": "stream",
     "text": [
      "   user_id year_month  total_gb\n",
      "0     1000    2018-12         2\n",
      "1     1001    2018-08         7\n",
      "2     1001    2018-09        14\n",
      "3     1001    2018-10        22\n",
      "4     1001    2018-11        19\n",
      "5     1001    2018-12        19\n",
      "6     1002    2018-10         7\n",
      "7     1002    2018-11        19\n",
      "8     1002    2018-12        15\n",
      "9     1003    2018-12        27\n"
     ]
    }
   ],
   "source": [
    "# Calcula el volumen del tráfico de Internet usado por cada usuario al mes. Guarda el resultado.\n",
    "internet['year_month'] = internet['session_date'].dt.to_period('M')\n",
    "internet_per_month = internet.groupby(['user_id', 'year_month'])['mb_used'].sum().reset_index(name='total_gb')\n",
    "internet_per_month['total_gb'] = internet_per_month['total_gb'].apply(lambda x: mh.ceil(x / 1024))\n",
    "\n",
    "\n",
    "print(internet_per_month.head(10))"
   ]
  },
  {
   "cell_type": "markdown",
   "metadata": {
    "id": "VDfYXnj80q1H"
   },
   "source": [
    "[Junta los datos agregados en un DataFrame para que haya un registro que represente lo que consumió un usuario único en un mes determinado.]"
   ]
  },
  {
   "cell_type": "code",
   "execution_count": 148,
   "metadata": {
    "id": "FW99ykyf0q1H"
   },
   "outputs": [
    {
     "name": "stdout",
     "output_type": "stream",
     "text": [
      "<class 'pandas.core.frame.DataFrame'>\n",
      "RangeIndex: 2293 entries, 0 to 2292\n",
      "Data columns (total 6 columns):\n",
      " #   Column          Non-Null Count  Dtype    \n",
      "---  ------          --------------  -----    \n",
      " 0   user_id         2293 non-null   object   \n",
      " 1   year_month      2293 non-null   period[M]\n",
      " 2   total_calls     2258 non-null   float64  \n",
      " 3   total_minutes   2258 non-null   float64  \n",
      " 4   total_messages  1806 non-null   float64  \n",
      " 5   total_gb        2277 non-null   float64  \n",
      "dtypes: float64(4), object(1), period[M](1)\n",
      "memory usage: 107.6+ KB\n",
      "None\n",
      "     user_id year_month  total_calls  total_minutes  total_messages  total_gb\n",
      "273     1061    2018-10         95.0           95.0            54.0      17.0\n",
      "575     1122    2018-09         59.0           59.0            16.0      22.0\n",
      "658     1138    2018-11         57.0           57.0             7.0      17.0\n",
      "598     1127    2018-07         35.0           35.0            10.0      22.0\n",
      "561     1120    2018-05         58.0           58.0            48.0      23.0\n",
      "1252    1263    2018-06         81.0           81.0             6.0      16.0\n",
      "2283    1498    2018-07         43.0           43.0             NaN      25.0\n",
      "590     1126    2018-06        116.0          116.0            78.0      27.0\n",
      "784     1163    2018-12         76.0           76.0             6.0      22.0\n",
      "576     1122    2018-10         66.0           66.0            21.0      18.0\n"
     ]
    }
   ],
   "source": [
    "# Fusiona los datos de llamadas, minutos, mensajes e Internet con base en user_id y month\n",
    "info_per_user = pd.merge(calls_per_month, minutes_per_month, on=['user_id', 'year_month'], how='outer')\n",
    "info_per_user = pd.merge(info_per_user, messages_per_month, on=['user_id', 'year_month'], how='outer')\n",
    "info_per_user = pd.merge(info_per_user, internet_per_month, on=['user_id', 'year_month'], how='outer')\n",
    "info_per_user['user_id'] = info_per_user['user_id'].astype(str)\n",
    "\n",
    "print(info_per_user.info())\n",
    "print(info_per_user.sample(10))"
   ]
  },
  {
   "cell_type": "code",
   "execution_count": 149,
   "metadata": {},
   "outputs": [
    {
     "name": "stdout",
     "output_type": "stream",
     "text": [
      "<class 'pandas.core.frame.DataFrame'>\n",
      "RangeIndex: 2293 entries, 0 to 2292\n",
      "Data columns (total 6 columns):\n",
      " #   Column          Non-Null Count  Dtype    \n",
      "---  ------          --------------  -----    \n",
      " 0   user_id         2293 non-null   object   \n",
      " 1   year_month      2293 non-null   period[M]\n",
      " 2   total_calls     2293 non-null   float64  \n",
      " 3   total_minutes   2293 non-null   float64  \n",
      " 4   total_messages  2293 non-null   float64  \n",
      " 5   total_gb        2293 non-null   float64  \n",
      "dtypes: float64(4), object(1), period[M](1)\n",
      "memory usage: 107.6+ KB\n",
      "None\n"
     ]
    }
   ],
   "source": [
    "# Rellenar los espacion NaN\n",
    "info_per_user = info_per_user.fillna(0)\n",
    "\n",
    "print(info_per_user.info())"
   ]
  },
  {
   "cell_type": "code",
   "execution_count": 150,
   "metadata": {
    "id": "0dNOXHag0q1H"
   },
   "outputs": [
    {
     "name": "stdout",
     "output_type": "stream",
     "text": [
      "     user_id year_month  total_calls  total_minutes  total_messages  total_gb  \\\n",
      "1353    1291    2018-10         91.0           91.0            14.0      21.0   \n",
      "1985    1425    2018-11         33.0           33.0            14.0      24.0   \n",
      "234     1055    2018-06         27.0           27.0            68.0      11.0   \n",
      "\n",
      "     plan_name  messages_included  mb_per_month_included  minutes_included  \\\n",
      "1353      surf                 50                  15360               500   \n",
      "1985      surf                 50                  15360               500   \n",
      "234       surf                 50                  15360               500   \n",
      "\n",
      "      usd_monthly_pay  usd_per_gb  usd_per_message  usd_per_minute  \n",
      "1353               20        10.0             0.03            0.03  \n",
      "1985               20        10.0             0.03            0.03  \n",
      "234                20        10.0             0.03            0.03  \n"
     ]
    }
   ],
   "source": [
    "# Añade la información de la tarifa\n",
    "\n",
    "# Primero seleccionare las columnas necesarias del archivo de usuarios\n",
    "users_plans = users[['user_id', 'plan_name']]\n",
    "# Combino con mi dataframe\n",
    "full_data = pd.merge(info_per_user, users_plans, how='left', on='user_id')\n",
    "# Combino con el DF de plans\n",
    "full_data = pd.merge(full_data, plans, how='left', on='plan_name')\n",
    "\n",
    "print(full_data.sample(3))\n",
    "\n"
   ]
  },
  {
   "cell_type": "code",
   "execution_count": 151,
   "metadata": {},
   "outputs": [],
   "source": [
    "# Reorganizacion de columnas para una mejor estructura y lectura\n",
    "# Reubicacion de columna 'plan_name'\n",
    "plan_name_col = full_data.pop('plan_name')\n",
    "full_data.insert(2, 'plan_name', plan_name_col)\n",
    "\n",
    "# Columna 'minutes_included'\n",
    "minutes_included_col = full_data.pop('minutes_included')\n",
    "full_data.insert(6, 'minutes_included', minutes_included_col)\n",
    "\n",
    "# Columna 'usd_per_minute'\n",
    "usd_per_minute_col = full_data.pop('usd_per_minute')\n",
    "full_data.insert(7, 'usd_per_minute', usd_per_minute_col)\n",
    "\n",
    "# Columna 'messages_included'\n",
    "messages_included_col = full_data.pop('messages_included')\n",
    "full_data.insert(9, 'messages_included', messages_included_col)\n",
    "\n",
    "# Columna 'usd_per_message'\n",
    "usd_per_message_col = full_data.pop('usd_per_message')\n",
    "full_data.insert(10, 'usd_per_message', usd_per_message_col)\n"
   ]
  },
  {
   "cell_type": "code",
   "execution_count": 152,
   "metadata": {},
   "outputs": [
    {
     "name": "stdout",
     "output_type": "stream",
     "text": [
      "<class 'pandas.core.frame.DataFrame'>\n",
      "RangeIndex: 2293 entries, 0 to 2292\n",
      "Data columns (total 14 columns):\n",
      " #   Column                 Non-Null Count  Dtype    \n",
      "---  ------                 --------------  -----    \n",
      " 0   user_id                2293 non-null   object   \n",
      " 1   year_month             2293 non-null   period[M]\n",
      " 2   plan_name              2293 non-null   object   \n",
      " 3   total_calls            2293 non-null   float64  \n",
      " 4   total_minutes          2293 non-null   float64  \n",
      " 5   total_messages         2293 non-null   float64  \n",
      " 6   minutes_included       2293 non-null   int64    \n",
      " 7   usd_per_minute         2293 non-null   float64  \n",
      " 8   total_gb               2293 non-null   float64  \n",
      " 9   messages_included      2293 non-null   int64    \n",
      " 10  usd_per_message        2293 non-null   float64  \n",
      " 11  mb_per_month_included  2293 non-null   int64    \n",
      " 12  usd_monthly_pay        2293 non-null   int64    \n",
      " 13  usd_per_gb             2293 non-null   float64  \n",
      "dtypes: float64(7), int64(4), object(2), period[M](1)\n",
      "memory usage: 250.9+ KB\n",
      "None\n"
     ]
    }
   ],
   "source": [
    "print(full_data.info())"
   ]
  },
  {
   "cell_type": "markdown",
   "metadata": {
    "id": "1IwGo4wg0q1I"
   },
   "source": [
    "[Calcula los ingresos mensuales por usuario (resta el límite del paquete gratuito del número total de llamadas, mensajes de texto y datos; multiplica el resultado por el valor del plan de llamadas; añade la tarifa mensual en función del plan de llamadas). Nota: Dadas las condiciones del plan, ¡esto podría no ser tan trivial como un par de líneas! Así que no pasa nada si dedicas algo de tiempo a ello.]"
   ]
  },
  {
   "cell_type": "code",
   "execution_count": 153,
   "metadata": {
    "id": "5FGCf_c60q1I"
   },
   "outputs": [],
   "source": [
    "# Calcula el ingreso mensual para cada usuario\n",
    "def extra_usd (user):\n",
    "    # Costo adicional por minutos\n",
    "    extra_minutes = max(0, user['total_minutes'] - user['minutes_included']) * user['usd_per_minute']\n",
    "    # Costo adicional por mensajes\n",
    "    extra_messages = max(0, user['total_messages'] - user['messages_included']) * user['usd_per_message']\n",
    "    # Costo adicional por Gb\n",
    "    mb_conversion = mh.ceil(user['mb_per_month_included'] / 1024)\n",
    "    extra_gb = max(0, user['total_gb'] - mb_conversion) * user['usd_per_gb']\n",
    "    # Sumas de valores\n",
    "    extra_total = extra_minutes + extra_messages + extra_gb\n",
    "    return extra_total\n"
   ]
  },
  {
   "cell_type": "code",
   "execution_count": 154,
   "metadata": {},
   "outputs": [
    {
     "name": "stdout",
     "output_type": "stream",
     "text": [
      "<class 'pandas.core.frame.DataFrame'>\n",
      "RangeIndex: 2293 entries, 0 to 2292\n",
      "Data columns (total 16 columns):\n",
      " #   Column                 Non-Null Count  Dtype    \n",
      "---  ------                 --------------  -----    \n",
      " 0   user_id                2293 non-null   object   \n",
      " 1   year_month             2293 non-null   period[M]\n",
      " 2   plan_name              2293 non-null   object   \n",
      " 3   total_calls            2293 non-null   float64  \n",
      " 4   total_minutes          2293 non-null   float64  \n",
      " 5   total_messages         2293 non-null   float64  \n",
      " 6   minutes_included       2293 non-null   int64    \n",
      " 7   usd_per_minute         2293 non-null   float64  \n",
      " 8   total_gb               2293 non-null   float64  \n",
      " 9   messages_included      2293 non-null   int64    \n",
      " 10  usd_per_message        2293 non-null   float64  \n",
      " 11  mb_per_month_included  2293 non-null   int64    \n",
      " 12  usd_monthly_pay        2293 non-null   int64    \n",
      " 13  usd_per_gb             2293 non-null   float64  \n",
      " 14  extra_cost             2293 non-null   float64  \n",
      " 15  total_cost             2293 non-null   float64  \n",
      "dtypes: float64(9), int64(4), object(2), period[M](1)\n",
      "memory usage: 286.8+ KB\n",
      "None\n",
      "     user_id year_month plan_name  total_calls  total_minutes  total_messages  \\\n",
      "136     1038    2018-11  ultimate         69.0           69.0           106.0   \n",
      "681     1144    2018-05  ultimate         82.0           82.0            73.0   \n",
      "628     1132    2018-09  ultimate         93.0           93.0           155.0   \n",
      "1072    1224    2018-10  ultimate         23.0           23.0            43.0   \n",
      "2069    1445    2018-09  ultimate         41.0           41.0             2.0   \n",
      "\n",
      "      minutes_included  usd_per_minute  total_gb  messages_included  \\\n",
      "136               3000            0.01      38.0               1000   \n",
      "681               3000            0.01      26.0               1000   \n",
      "628               3000            0.01      26.0               1000   \n",
      "1072              3000            0.01      18.0               1000   \n",
      "2069              3000            0.01       8.0               1000   \n",
      "\n",
      "      usd_per_message  mb_per_month_included  usd_monthly_pay  usd_per_gb  \\\n",
      "136              0.01                  30720               70         7.0   \n",
      "681              0.01                  30720               70         7.0   \n",
      "628              0.01                  30720               70         7.0   \n",
      "1072             0.01                  30720               70         7.0   \n",
      "2069             0.01                  30720               70         7.0   \n",
      "\n",
      "      extra_cost  total_cost  \n",
      "136         56.0       126.0  \n",
      "681          0.0        70.0  \n",
      "628          0.0        70.0  \n",
      "1072         0.0        70.0  \n",
      "2069         0.0        70.0  \n"
     ]
    }
   ],
   "source": [
    "# Agregar nueva columna con el costo extra\n",
    "full_data['extra_cost'] = full_data.apply(extra_usd, axis=1)\n",
    "full_data['extra_cost'] = full_data['extra_cost'].astype(float)\n",
    "\n",
    "# Agregar nueva columna con el costo total\n",
    "full_data['total_cost'] = full_data['extra_cost'] + full_data['usd_monthly_pay']\n",
    "\n",
    "# Imprimir resultados\n",
    "print(full_data.info())\n",
    "print(full_data.sample(5))"
   ]
  },
  {
   "cell_type": "markdown",
   "metadata": {
    "id": "-jtyHzJb0q1I"
   },
   "source": [
    "## Estudia el comportamiento de usuario"
   ]
  },
  {
   "cell_type": "markdown",
   "metadata": {
    "id": "AxU3Y0N70q1J"
   },
   "source": [
    "[Calcula algunas estadísticas descriptivas para los datos agregados y fusionados que nos sean útiles y que muestren un panorama general captado por los datos. Dibuja gráficos útiles para facilitar la comprensión. Dado que la tarea principal es comparar las tarifas y decidir cuál es más rentable, las estadísticas y gráficas deben calcularse por tarifa.]\n",
    "\n",
    "[En los comentarios hallarás pistas relevantes para las llamadas, pero no las hay para los mensajes e Internet. Sin embargo, el principio del estudio estadístico que se aplica para ellos es el mismo que para las llamadas.]"
   ]
  },
  {
   "cell_type": "markdown",
   "metadata": {
    "id": "vtW4CJEe0q1J"
   },
   "source": [
    "### Llamadas"
   ]
  },
  {
   "cell_type": "code",
   "execution_count": 155,
   "metadata": {
    "id": "Jf5v5--k0q1J"
   },
   "outputs": [
    {
     "data": {
      "image/png": "[encoded data removed]",
      "text/plain": [
       "<Figure size 1200x600 with 1 Axes>"
      ]
     },
     "metadata": {},
     "output_type": "display_data"
    }
   ],
   "source": [
    "# Compara la duración promedio de llamadas por cada plan y por cada mes. Traza un gráfico de barras para visualizarla.\n",
    "\n",
    "avg_call_duration = full_data.groupby(['plan_name', 'year_month'])['total_minutes'].mean().reset_index()\n",
    "avg_call_duration['year_month'] = avg_call_duration['year_month'].astype(str) \n",
    "\n",
    "# Datos para el grafico\n",
    "avg_plans = avg_call_duration['plan_name'].unique()\n",
    "x_label = avg_call_duration['year_month'].unique()\n",
    "\n",
    "# Crear grafico de barras\n",
    "fig, ax = plt.subplots(figsize=(12,6))\n",
    "for plan in avg_plans:\n",
    "    data = avg_call_duration[avg_call_duration['plan_name'] == plan]\n",
    "\n",
    "    # Atenuar el color de un plan específico, por ejemplo 'Plan Básico'\n",
    "    if plan == 'surf':\n",
    "        ax.bar(data['year_month'], data['total_minutes'], label=plan, alpha=0.5, color='red')\n",
    "    else:\n",
    "        ax.bar(data['year_month'], data['total_minutes'], label=plan, alpha=0.3, color='blue')    \n",
    "\n",
    "ax.set_title('Duracion de llamadas por mes', fontsize=14)\n",
    "ax.set_xlabel('Mes', fontsize=12)\n",
    "ax.set_ylabel('Duración Promedio de Llamadas (minutos)', fontsize=12)\n",
    "ax.legend(title=\"Plan\")\n",
    "plt.xticks(rotation=45)\n",
    "plt.tight_layout()\n",
    "\n",
    "plt.show()"
   ]
  },
  {
   "cell_type": "code",
   "execution_count": 156,
   "metadata": {
    "id": "QoLqW1S_0q1J"
   },
   "outputs": [
    {
     "data": {
      "image/png": "[encoded data removed]",
      "text/plain": [
       "<Figure size 1200x600 with 1 Axes>"
      ]
     },
     "metadata": {},
     "output_type": "display_data"
    }
   ],
   "source": [
    "# Compara el número de minutos mensuales que necesitan los usuarios de cada plan. Traza un histograma.\n",
    "\n",
    "plans = full_data['plan_name'].unique()\n",
    "fig, ax = plt.subplots(figsize=(12,6))\n",
    "\n",
    "for plan in plans:\n",
    "    data = full_data[full_data['plan_name'] == plan]['total_minutes']\n",
    "    ax.hist(data, bins=20, alpha=0.5, label=plan)\n",
    "\n",
    "# Personalizar el gráfico\n",
    "ax.set_title('Distribución de Minutos Mensuales por Plan', fontsize=14)\n",
    "ax.set_xlabel('Minutos Mensuales', fontsize=12)\n",
    "ax.set_ylabel('Frecuencia', fontsize=12)\n",
    "ax.legend(title=\"Plan\")\n",
    "plt.tight_layout()\n",
    "\n",
    "# Mostrar gráfico\n",
    "plt.show()"
   ]
  },
  {
   "cell_type": "markdown",
   "metadata": {
    "id": "bLS9T8OH0q1K"
   },
   "source": [
    "[Calcula la media y la variable de la duración de las llamadas para averiguar si los usuarios de los distintos planes se comportan de forma diferente al realizar sus llamadas.]"
   ]
  },
  {
   "cell_type": "code",
   "execution_count": 157,
   "metadata": {
    "id": "oSndbAnt0q1K"
   },
   "outputs": [
    {
     "name": "stdout",
     "output_type": "stream",
     "text": [
      "La media es: 60.06759703445268\n",
      "la varianza es: 1049.9260569195724\n"
     ]
    }
   ],
   "source": [
    "# Calcula la media y la varianza de la duración mensual de llamadas.\n",
    "\n",
    "# Calculo de la media\n",
    "call_duration_mean = full_data['total_minutes'].mean()\n",
    "\n",
    "# Calculo de la varianza\n",
    "call_duration_var = full_data['total_minutes'].var()\n",
    "\n",
    "# Imprimimos resultados\n",
    "\n",
    "print('La media es:', call_duration_mean)\n",
    "print('la varianza es:', call_duration_var)"
   ]
  },
  {
   "cell_type": "code",
   "execution_count": 158,
   "metadata": {
    "id": "nZzoRUKc0q1K"
   },
   "outputs": [
    {
     "name": "stderr",
     "output_type": "stream",
     "text": [
      "/var/folders/mw/frc8gt413314ssp_571x0spw0000gn/T/ipykernel_3189/3227588995.py:9: MatplotlibDeprecationWarning: The 'labels' parameter of boxplot() has been renamed 'tick_labels' since Matplotlib 3.9; support for the old name will be dropped in 3.11.\n",
      "  box.boxplot(box_data, labels=box_plans, patch_artist=True, boxprops=dict(facecolor='lightblue', color='blue'), medianprops=dict(color='red'))\n"
     ]
    },
    {
     "data": {
      "image/png": "[encoded data removed]",
      "text/plain": [
       "<Figure size 1200x600 with 1 Axes>"
      ]
     },
     "metadata": {},
     "output_type": "display_data"
    }
   ],
   "source": [
    "# Traza un diagrama de caja para visualizar la distribución de la duración mensual de llamadas\n",
    "\n",
    "# Preparacion de datos\n",
    "box_plans = full_data['plan_name'].unique()\n",
    "box_data = [full_data[full_data['plan_name'] == plan]['total_minutes']for plan in box_plans]\n",
    "\n",
    "# Creacion de diagrama\n",
    "fig, box = plt.subplots(figsize=(12, 6))\n",
    "box.boxplot(box_data, labels=box_plans, patch_artist=True, boxprops=dict(facecolor='lightblue', color='blue'), medianprops=dict(color='red'))\n",
    "\n",
    "# Personalizar el gráfico\n",
    "box.set_title('Distribución de la Duración Mensual de Llamadas por Plan', fontsize=14)\n",
    "box.set_xlabel('Plan', fontsize=12)\n",
    "box.set_ylabel('Duración Mensual de Llamadas (minutos)', fontsize=12)\n",
    "box.grid(axis='y', linestyle='--', alpha=0.7)\n",
    "\n",
    "plt.show(box)"
   ]
  },
  {
   "cell_type": "markdown",
   "metadata": {
    "id": "r627zBO50q1K"
   },
   "source": [
    "[Elabora las conclusiones sobre el comportamiento de los usuarios con respecto a las llamadas. ¿Su comportamiento varía en función del plan?]"
   ]
  },
  {
   "cell_type": "markdown",
   "metadata": {},
   "source": [
    "CONCLUSIONES\n",
    "\n",
    "- LAS MEDIANAS SON MUY SIMILARES RESPECTO A LOS PLANES, SIN EMBARGO LOS DEL PLAN ULTIMATE, DURAN UN POCO MAS EN SUS LLAMADAS, ESTO TAMBIEN LO PODEMOS OBSERVAR YA QUE EL CENTRO DE DATOS ES MAS GRRANDE QUE DEL PLAN SURF.\n",
    "- AMBOS PLANES TIENEN UN SESGO HACIA EL CUARTIL 3, SIN EMBARGO EN EL PLAN ULTIMATE, SE DENOTA UN POCO MAS.\n",
    "- EL PLAN SURF TIENE MAS OUTLINERS EN SU DISTRIBUCION DE DATOS.\n",
    "\n",
    "CON ESTO, PODRIA DECIR QUE SI, EFECTIVAMENTE EL COMPORTAMIENTO VARIA DEPENDIENDO AL PLAN, YA QUE LOS DEL PLAN ULTIMATE SI UTILIZAN MAS MINUTOS QUE LOS DEL PLAN SURF, QUE EN ESTA OCASION, SE PUEDE OBSERVAR QUE SU COMPORTAMIENTO EN LOS MINUTOS ES MAS ESTANDAR QUE EN EL PLAN ULTIMATE."
   ]
  },
  {
   "cell_type": "markdown",
   "metadata": {
    "id": "8idKy8Wh0q1L"
   },
   "source": [
    "### Mensajes"
   ]
  },
  {
   "cell_type": "code",
   "execution_count": 159,
   "metadata": {
    "id": "NXLxiTit0q1L"
   },
   "outputs": [
    {
     "data": {
      "image/png": "[encoded data removed]",
      "text/plain": [
       "<Figure size 1200x600 with 1 Axes>"
      ]
     },
     "metadata": {},
     "output_type": "display_data"
    }
   ],
   "source": [
    "# Comprara el número de mensajes que tienden a enviar cada mes los usuarios de cada plan\n",
    "avg_messages_duration = full_data.groupby(['plan_name', 'year_month'])['total_messages'].mean().reset_index()\n",
    "avg_messages_duration['year_month'] = avg_messages_duration['year_month'].astype(str) \n",
    "\n",
    "# Datos para el grafico\n",
    "avg_plans = avg_call_duration['plan_name'].unique()\n",
    "x_label = avg_call_duration['year_month'].unique()\n",
    "\n",
    "# Crear grafico de barras\n",
    "fig, ax = plt.subplots(figsize=(12,6))\n",
    "for plan in avg_plans:\n",
    "    data = avg_messages_duration[avg_call_duration['plan_name'] == plan]\n",
    "\n",
    "    # Atenuar el color de un plan específico, por ejemplo 'Plan Básico'\n",
    "    if plan == 'surf':\n",
    "        ax.bar(data['year_month'], data['total_messages'], label=plan, alpha=0.5, color='blue')\n",
    "    else:\n",
    "        ax.bar(data['year_month'], data['total_messages'], label=plan, alpha=0.3, color='green')  \n",
    "\n",
    "\n",
    "ax.set_title('Mensajes por mes', fontsize=14)\n",
    "ax.set_xlabel('Mes', fontsize=12)\n",
    "ax.set_ylabel('Numero de mensajes por mes', fontsize=12)\n",
    "ax.legend(title=\"Plan\")\n",
    "plt.xticks(rotation=45)\n",
    "plt.tight_layout()\n",
    "\n",
    "plt.show()"
   ]
  },
  {
   "cell_type": "code",
   "execution_count": 160,
   "metadata": {},
   "outputs": [
    {
     "name": "stdout",
     "output_type": "stream",
     "text": [
      "La media es: 33.166593981683384\n",
      "la varianza es: 1160.770663655758\n"
     ]
    }
   ],
   "source": [
    "# Calcula la media y la varianza de la cantidad de mensajes.\n",
    "\n",
    "# Calculo de la media\n",
    "total_messages_mean = full_data['total_messages'].mean()\n",
    "\n",
    "# Calculo de la varianza\n",
    "total_messages_var = full_data['total_messages'].var()\n",
    "\n",
    "# Imprimimos resultados\n",
    "\n",
    "print('La media es:', total_messages_mean)\n",
    "print('la varianza es:', total_messages_var)"
   ]
  },
  {
   "cell_type": "code",
   "execution_count": 161,
   "metadata": {},
   "outputs": [
    {
     "name": "stderr",
     "output_type": "stream",
     "text": [
      "/var/folders/mw/frc8gt413314ssp_571x0spw0000gn/T/ipykernel_3189/2003025223.py:9: MatplotlibDeprecationWarning: The 'labels' parameter of boxplot() has been renamed 'tick_labels' since Matplotlib 3.9; support for the old name will be dropped in 3.11.\n",
      "  box.boxplot(box_data, labels=box_plans, patch_artist=True, boxprops=dict(facecolor='lightblue', color='blue'), medianprops=dict(color='red'))\n"
     ]
    },
    {
     "data": {
      "image/png": "[encoded data removed]",
      "text/plain": [
       "<Figure size 1200x600 with 1 Axes>"
      ]
     },
     "metadata": {},
     "output_type": "display_data"
    }
   ],
   "source": [
    "# Traza un diagrama de caja para visualizar la distribución de los mensajes por mes\n",
    "\n",
    "# Preparacion de datos\n",
    "box_plans = full_data['plan_name'].unique()\n",
    "box_data = [full_data[full_data['plan_name'] == plan]['total_messages']for plan in box_plans]\n",
    "\n",
    "# Creacion de diagrama\n",
    "fig, box = plt.subplots(figsize=(12, 6))\n",
    "box.boxplot(box_data, labels=box_plans, patch_artist=True, boxprops=dict(facecolor='lightblue', color='blue'), medianprops=dict(color='red'))\n",
    "\n",
    "# Personalizar el gráfico\n",
    "box.set_title('Distribucion de mensajes por Plan', fontsize=14)\n",
    "box.set_xlabel('Plan', fontsize=12)\n",
    "box.set_ylabel('Cantidad de mensajes por mes)', fontsize=12)\n",
    "box.grid(axis='y', linestyle='--', alpha=0.7)\n",
    "\n",
    "plt.show(box)"
   ]
  },
  {
   "cell_type": "markdown",
   "metadata": {
    "id": "390SSL480q1M"
   },
   "source": [
    "[Elabora las conclusiones sobre el comportamiento de los usuarios con respecto a los mensajes. ¿Su comportamiento varía en función del plan?]"
   ]
  },
  {
   "cell_type": "markdown",
   "metadata": {},
   "source": [
    "CONCLUSIONES\n",
    "\n",
    "- EN EL PLAN ULTIMATE, SE PUEDE OBSERVAR QUE EFECTIVAMENTE SE MANDAN MAS MENSAJES QUE EN EL PLAN SURF, SIN EMBARGO, PODEMOS OBSERVAR QUE HAY UN CRECIMIENTO EN CADA PLAN, CONFORME VAN AVANZANDO LOS MESES, OSEA, EN CADA MES, AMBOS PLANES INCREMENTAN SU NUMERO DE MENSAJES UTILIZADOS.\n",
    "- SE PUEDE OBSERVAR QUE LAS MEDIAS SON CASI IGUALES, PERO EL PLAN ULTIMATE TIENE UNA TENDENCIA MAS ALTA, A SU VEZ, VEMOS QUE LA CAJA TIENDE A TENER MUCHOS MAS DATOS EN SU INTERCUARTIL QUE EL PLAN SURF.\n",
    "-  LA CANTIDAD DE OUTLINERS EN EL PLAN SURF ES MUCHO MAYOR QUE EN EL PLAN ULTIMATE.\n",
    "\n",
    "GRRACIAS A ESTE ANALISIS SE COMPRENDE AHORA QUE EL PLAN SURF TIENDE A UTILIZAR SI, MENOS MENSAJES QUE EL PLAN ULTIMATE, SIN EMBARGO, HAY VARIOS DATOS QUE SE SALIERON DEL RANGO."
   ]
  },
  {
   "cell_type": "markdown",
   "metadata": {
    "id": "42YSypXz0q1M"
   },
   "source": [
    "### Internet"
   ]
  },
  {
   "cell_type": "code",
   "execution_count": 162,
   "metadata": {},
   "outputs": [
    {
     "data": {
      "image/png": "[encoded data removed]",
      "text/plain": [
       "<Figure size 1200x600 with 1 Axes>"
      ]
     },
     "metadata": {},
     "output_type": "display_data"
    }
   ],
   "source": [
    "# Compara la cantidad de tráfico de Internet consumido por usuarios por plan\n",
    "avg_mb_duration = full_data.groupby(['plan_name', 'year_month'])['total_gb'].mean().reset_index()\n",
    "avg_mb_duration['year_month'] = avg_mb_duration['year_month'].astype(str) \n",
    "\n",
    "# Datos para el grafico\n",
    "avg_plans = avg_mb_duration['plan_name'].unique()\n",
    "x_label = avg_mb_duration['year_month'].unique()\n",
    "\n",
    "# Crear grafico de barras\n",
    "fig, ax = plt.subplots(figsize=(12,6))\n",
    "for plan in avg_plans:\n",
    "    data = avg_mb_duration[avg_mb_duration['plan_name'] == plan]\n",
    "\n",
    "    # Atenuar el color de un plan específico, por ejemplo 'Plan Básico'\n",
    "    if plan == 'surf':\n",
    "        ax.bar(data['year_month'], data['total_gb'], label=plan, alpha=0.5, color='orange')\n",
    "    else:\n",
    "        ax.bar(data['year_month'], data['total_gb'], label=plan, alpha=0.3, color='purple')  \n",
    "\n",
    "\n",
    "ax.set_title('Consumo de internet por mes', fontsize=14)\n",
    "ax.set_xlabel('Mes', fontsize=12)\n",
    "ax.set_ylabel('Cantidad de mb por mes', fontsize=12)\n",
    "ax.legend(title=\"Plan\")\n",
    "plt.xticks(rotation=45)\n",
    "plt.tight_layout()\n",
    "\n",
    "plt.show()"
   ]
  },
  {
   "cell_type": "code",
   "execution_count": 163,
   "metadata": {
    "id": "lSuKPtjh0q1M"
   },
   "outputs": [
    {
     "name": "stdout",
     "output_type": "stream",
     "text": [
      "La media es: 16.870475359790667\n",
      "la varianza es: 60.780336466779175\n"
     ]
    }
   ],
   "source": [
    "# Calcula la media y la varianza de la cantidad de megabytes utilizados al mes.\n",
    "\n",
    "# Calculo de la media\n",
    "total_mb_mean = full_data['total_gb'].mean()\n",
    "\n",
    "# Calculo de la varianza\n",
    "total_mb_var = full_data['total_gb'].var()\n",
    "\n",
    "# Imprimimos resultados\n",
    "print('La media es:', total_mb_mean)\n",
    "print('la varianza es:', total_mb_var)"
   ]
  },
  {
   "cell_type": "code",
   "execution_count": 164,
   "metadata": {
    "id": "wnh8jYXi0q1N"
   },
   "outputs": [
    {
     "name": "stderr",
     "output_type": "stream",
     "text": [
      "/var/folders/mw/frc8gt413314ssp_571x0spw0000gn/T/ipykernel_3189/2361913050.py:9: MatplotlibDeprecationWarning: The 'labels' parameter of boxplot() has been renamed 'tick_labels' since Matplotlib 3.9; support for the old name will be dropped in 3.11.\n",
      "  box.boxplot(box_data, labels=box_plans, patch_artist=True, boxprops=dict(facecolor='lightblue', color='red'), medianprops=dict(color='green'))\n"
     ]
    },
    {
     "data": {
      "image/png": "[encoded data removed]",
      "text/plain": [
       "<Figure size 1200x600 with 1 Axes>"
      ]
     },
     "metadata": {},
     "output_type": "display_data"
    }
   ],
   "source": [
    "# Traza un diagrama de caja para visualizar la distribución de la duración mensual de llamadas\n",
    "\n",
    "# Preparacion de datos\n",
    "box_plans = full_data['plan_name'].unique()\n",
    "box_data = [full_data[full_data['plan_name'] == plan]['total_gb']for plan in box_plans]\n",
    "\n",
    "# Creacion de diagrama\n",
    "fig, box = plt.subplots(figsize=(12, 6))\n",
    "box.boxplot(box_data, labels=box_plans, patch_artist=True, boxprops=dict(facecolor='lightblue', color='red'), medianprops=dict(color='green'))\n",
    "\n",
    "# Personalizar el gráfico\n",
    "box.set_title('Distribución de gigabytes por Plan', fontsize=14)\n",
    "box.set_xlabel('Plan', fontsize=12)\n",
    "box.set_ylabel('Cantidad mensual de gigabytes utilizados ', fontsize=12)\n",
    "box.grid(axis='y', linestyle='--', alpha=0.7)\n",
    "\n",
    "plt.show(box)"
   ]
  },
  {
   "cell_type": "markdown",
   "metadata": {
    "id": "UN9zwuMP0q1N"
   },
   "source": [
    "[Elabora las conclusiones sobre cómo los usuarios tienden a consumir el tráfico de Internet. ¿Su comportamiento varía en función del plan?]"
   ]
  },
  {
   "cell_type": "markdown",
   "metadata": {},
   "source": [
    "CONCLUSIONES\n",
    "\n",
    "- PODEMOS OBSERVAR QUE LA MEDIA EN AMBOS PLANES ESTAN POR EL MISMO LUGAR, sin embargo, la cantidad intercuartil del plan surf es mayor a la del plan ultimate, tambien vemos que sus bigotes tienden a ser mas largos,\n",
    "- se observa que el plan surf tiene mas outliners, señal de que hay personas que podrian estar utilizando mucho mas de lo que les incluye su plan, de hecho la media esta muy por encima de ello."
   ]
  },
  {
   "cell_type": "markdown",
   "metadata": {
    "id": "tCijq3260q1N"
   },
   "source": [
    "## Ingreso"
   ]
  },
  {
   "cell_type": "markdown",
   "metadata": {
    "id": "9nq5IAcy0q1O"
   },
   "source": [
    "[Del mismo modo que has estudiado el comportamiento de los usuarios, describe estadísticamente los ingresos de los planes.]"
   ]
  },
  {
   "cell_type": "code",
   "execution_count": 165,
   "metadata": {
    "id": "tz-dq_V00q1O"
   },
   "outputs": [
    {
     "name": "stdout",
     "output_type": "stream",
     "text": [
      "            count       mean        std   min   25%   50%   75%     max\n",
      "plan_name                                                              \n",
      "surf       1573.0  58.862638  54.549029  20.0  20.0  40.0  80.0  572.28\n",
      "ultimate    720.0  72.313889  11.395108  70.0  70.0  70.0  70.0  182.00\n"
     ]
    }
   ],
   "source": [
    "income_stats = full_data.groupby('plan_name')['total_cost'].describe()\n",
    "\n",
    "print(income_stats)"
   ]
  },
  {
   "cell_type": "code",
   "execution_count": 166,
   "metadata": {
    "id": "0Y1v8ZUz0q1P"
   },
   "outputs": [
    {
     "name": "stderr",
     "output_type": "stream",
     "text": [
      "/var/folders/mw/frc8gt413314ssp_571x0spw0000gn/T/ipykernel_3189/3247227140.py:9: MatplotlibDeprecationWarning: The 'labels' parameter of boxplot() has been renamed 'tick_labels' since Matplotlib 3.9; support for the old name will be dropped in 3.11.\n",
      "  plt.boxplot(data_to_plot, labels=plans, patch_artist=True, boxprops=dict(facecolor='lightblue'))\n"
     ]
    },
    {
     "data": {
      "image/png": "[encoded data removed]",
      "text/plain": [
       "<Figure size 1200x600 with 1 Axes>"
      ]
     },
     "metadata": {},
     "output_type": "display_data"
    }
   ],
   "source": [
    "# Crear un diagrama de caja para visualizar la distribución de ingresos por plan\n",
    "plt.figure(figsize=(12, 6))\n",
    "plans = full_data['plan_name'].unique()\n",
    "\n",
    "# Crear listas de ingresos por plan\n",
    "data_to_plot = [full_data[full_data['plan_name'] == plan]['total_cost'] for plan in plans]\n",
    "\n",
    "# Diagrama de caja\n",
    "plt.boxplot(data_to_plot, labels=plans, patch_artist=True, boxprops=dict(facecolor='lightblue'))\n",
    "\n",
    "# Personalización del gráfico\n",
    "plt.title(\"Distribución de Ingresos por Plan\", fontsize=14)\n",
    "plt.xlabel(\"Plan\", fontsize=12)\n",
    "plt.ylabel(\"Ingresos Totales (USD)\", fontsize=12)\n",
    "plt.grid(axis='y', linestyle='--', alpha=0.7)\n",
    "plt.show()"
   ]
  },
  {
   "cell_type": "markdown",
   "metadata": {
    "id": "KAFidcXZ0q1P"
   },
   "source": [
    "[Elabora las conclusiones sobre cómo difiere el ingreso entre los planes.]"
   ]
  },
  {
   "cell_type": "markdown",
   "metadata": {},
   "source": [
    "CONCLUSIONES\n",
    "\n",
    "PODEMOS OBSERVAR QUE LA MEDIA DE CADA PLAN ESTA BASICAMENTE EN SU PAGO MENSUAL, SIN EMBARGO, EL PLAN SURF TIENE UNA GRAN TENDENCIA A GENERAR MUCHOS MAS INGRESOS EXTRAS QUE EL PLAN ULTIMATE, ESTO SE DEBE A QUE NO LES ALCANZA LO QUE TIENEN INCLUIDO Y POR ENDE GASTAN MAS DE LO QUE YA TIENEN INCLUIDDO."
   ]
  },
  {
   "cell_type": "markdown",
   "metadata": {
    "id": "ajJ7VKeI0q1Q"
   },
   "source": [
    "## Prueba las hipótesis estadísticas"
   ]
  },
  {
   "cell_type": "markdown",
   "metadata": {
    "id": "AdXAZ-yL0q1Q"
   },
   "source": [
    "[Prueba la hipótesis de que son diferentes los ingresos promedio procedentes de los usuarios de los planes de llamada Ultimate y Surf.]"
   ]
  },
  {
   "cell_type": "markdown",
   "metadata": {
    "id": "IQwa_hsh0q1Q"
   },
   "source": [
    "[Elabora las hipótesis nula y alternativa, escoge la prueba estadística, determina el valor alfa.]"
   ]
  },
  {
   "cell_type": "code",
   "execution_count": 167,
   "metadata": {
    "id": "nFoPNlPq0q1R"
   },
   "outputs": [
    {
     "name": "stdout",
     "output_type": "stream",
     "text": [
      "Resultados de la prueba t:\n",
      "Estadístico de prueba: -9.344718611813233\n",
      "Valor p: 2.5613755181532966e-20\n",
      "\n",
      "Rechazamos la hipótesis nula: Existe una diferencia significativa entre los ingresos de los planes.\n"
     ]
    }
   ],
   "source": [
    "# Prueba las hipótesis \n",
    "\n",
    "# Separar los ingresos por tipo de plan\n",
    "surf_income = full_data[full_data['plan_name'] == 'surf']['total_cost']\n",
    "ultimate_income = full_data[full_data['plan_name'] == 'ultimate']['total_cost']\n",
    "\n",
    "# Prueba T\n",
    "\n",
    "alpha = 0.5\n",
    "stat, p_value = st.ttest_ind(surf_income, ultimate_income, equal_var=False)\n",
    "\n",
    "# Resultados\n",
    "print(\"Resultados de la prueba t:\")\n",
    "print(f\"Estadístico de prueba: {stat}\")\n",
    "print(f\"Valor p: {p_value}\")\n",
    "\n",
    "if p_value < alpha:\n",
    "    print(\"\\nRechazamos la hipótesis nula: Existe una diferencia significativa entre los ingresos de los planes.\")\n",
    "else:\n",
    "    print(\"\\nNo se puede rechazar la hipótesis nula: No hay evidencia suficiente para afirmar que los ingresos son diferentes.\")\n",
    "\n"
   ]
  },
  {
   "cell_type": "markdown",
   "metadata": {
    "id": "tCcAruM60q1R"
   },
   "source": [
    "[Prueba la hipótesis de que el ingreso promedio de los usuarios del área NY-NJ es diferente al de los usuarios de otras regiones.]"
   ]
  },
  {
   "cell_type": "markdown",
   "metadata": {
    "id": "LsBgitqj0q1R"
   },
   "source": [
    "[Elabora las hipótesis nula y alternativa, escoge la prueba estadística, determina el valor alfa.]"
   ]
  },
  {
   "cell_type": "code",
   "execution_count": 168,
   "metadata": {
    "id": "Cqcj7wrZ0q1S"
   },
   "outputs": [
    {
     "name": "stdout",
     "output_type": "stream",
     "text": [
      "     user_id year_month plan_name  total_calls  total_minutes  total_messages  \\\n",
      "498     1106    2018-06      surf         77.0           77.0             0.0   \n",
      "1964    1418    2018-12      surf         42.0           42.0             0.0   \n",
      "54      1012    2018-12      surf         16.0           16.0             0.0   \n",
      "\n",
      "      minutes_included  usd_per_minute  total_gb  messages_included  \\\n",
      "498                500            0.03      19.0                 50   \n",
      "1964               500            0.03      41.0                 50   \n",
      "54                 500            0.03      12.0                 50   \n",
      "\n",
      "      usd_per_message  mb_per_month_included  usd_monthly_pay  usd_per_gb  \\\n",
      "498              0.03                  15360               20        10.0   \n",
      "1964             0.03                  15360               20        10.0   \n",
      "54               0.03                  15360               20        10.0   \n",
      "\n",
      "      extra_cost  total_cost                                       city  \n",
      "498         40.0        60.0  New York-Newark-Jersey City, NY-NJ-PA MSA  \n",
      "1964       260.0       280.0  New York-Newark-Jersey City, NY-NJ-PA MSA  \n",
      "54           0.0        20.0     Chicago-Naperville-Elgin, IL-IN-WI MSA  \n"
     ]
    }
   ],
   "source": [
    "# Prueba las hipótesis\n",
    "\n",
    "# Unimos la ciudad a nuesto DF\n",
    "users_city = users[['user_id', 'city']]\n",
    "full_data_city = pd.merge(full_data, users_city, how='left', on='user_id')\n",
    "\n",
    "print(full_data_city.sample(3))"
   ]
  },
  {
   "cell_type": "code",
   "execution_count": 169,
   "metadata": {},
   "outputs": [
    {
     "name": "stdout",
     "output_type": "stream",
     "text": [
      "ingreso total de NY: 22081.460000000003\n",
      "ingreso total de las demas ciudades: 122575.46999999991\n"
     ]
    }
   ],
   "source": [
    "# Separamos los ingresos\n",
    "\n",
    "ny_total_income =  0\n",
    "other_cities_total_income = 0\n",
    "\n",
    "for _, row in full_data_city.iterrows():\n",
    "    if row['city'] == 'New York-Newark-Jersey City, NY-NJ-PA MSA':\n",
    "        ny_total_income += row['total_cost']\n",
    "    else:\n",
    "        other_cities_total_income += row['total_cost']\n",
    "\n",
    "print('ingreso total de NY:', ny_total_income)\n",
    "print('ingreso total de las demas ciudades:', other_cities_total_income)"
   ]
  },
  {
   "cell_type": "code",
   "execution_count": 170,
   "metadata": {},
   "outputs": [
    {
     "data": {
      "image/png": "[encoded data removed]",
      "text/plain": [
       "<Figure size 800x600 with 1 Axes>"
      ]
     },
     "metadata": {},
     "output_type": "display_data"
    }
   ],
   "source": [
    "# Grafico de barras\n",
    "\n",
    "# Datos del grafico\n",
    "cities = ['NY-NJ-PA MSA', 'Other cities']\n",
    "total_incomes =  [ny_total_income, other_cities_total_income]\n",
    "\n",
    "# Crear la gráfica de barras\n",
    "plt.figure(figsize=(8, 6))\n",
    "plt.bar(cities, total_incomes, color=['blue', 'green'])\n",
    "plt.title('Total Income: NY-NJ-PA MSA vs Other Cities', fontsize=14)\n",
    "plt.ylabel('Total Income (USD)', fontsize=12)\n",
    "plt.xlabel('Cities', fontsize=12)\n",
    "plt.show()"
   ]
  },
  {
   "cell_type": "code",
   "execution_count": 171,
   "metadata": {},
   "outputs": [
    {
     "name": "stdout",
     "output_type": "stream",
     "text": [
      "Estadístico t: -2.1923231649466426\n",
      "Valor p: 0.028765503550625456\n",
      "Rechazamos la hipótesis nula: existe una diferencia significativa en los ingresos promedio.\n"
     ]
    }
   ],
   "source": [
    "# Prueba de hipotesis\n",
    "\n",
    "# Dividimos en grupos las ciudades\n",
    "ny_data = full_data_city[full_data_city['city'] == 'New York-Newark-Jersey City, NY-NJ-PA MSA']['total_cost']\n",
    "other_cities_data = full_data_city[full_data_city['city'] != 'New York-Newark-Jersey City, NY-NJ-PA MSA']['total_cost']\n",
    "\n",
    "stat, p_value = st.ttest_ind(ny_data, other_cities_data, equal_var=False)\n",
    "\n",
    "# Imprimir los resultados\n",
    "print(\"Estadístico t:\", stat)\n",
    "print(\"Valor p:\", p_value)\n",
    "\n",
    "# Interpretación del resultado\n",
    "alpha = 0.05\n",
    "if p_value < alpha:\n",
    "    print(\"Rechazamos la hipótesis nula: existe una diferencia significativa en los ingresos promedio.\")\n",
    "else:\n",
    "    print(\"No se rechaza la hipótesis nula: no hay evidencia suficiente para afirmar que los ingresos promedio son diferentes.\")"
   ]
  },
  {
   "cell_type": "markdown",
   "metadata": {
    "id": "bbTR8UQO0q1T"
   },
   "source": [
    "## Conclusión general\n",
    "\n",
    "[En esta sección final, enumera tus conclusiones importantes. Asegúrate de que estas abarquen todas las decisiones (suposiciones) importantes que adoptaste y que determinaron la forma elegida para procesar y analizar los datos.]"
   ]
  },
  {
   "cell_type": "markdown",
   "metadata": {},
   "source": [
    "CONCLUSIONES:\n",
    "\n",
    "- podemos observar que los clientes con el plan 'surf' tienen mayores consumos que los incluidos en su pla, por lo tanto generan mas ingresos extra que el plan 'ultimate'\n",
    "- los usuarios del plan 'ultimate' tienden a casi no rebasar sus limites en su plan.\n",
    "- los datos de NY - NJ son mmucho mas bajos que todas las demas ciudades, por lo tanto no son una zona principal.\n",
    "- en general, se tiene un mayor ingreso, por los mb extras.\n",
    "- la mensajeria ha ido en alsa al pasar el tiempo."
   ]
  },
  {
   "cell_type": "markdown",
   "metadata": {},
   "source": []
  }
 ],
 "metadata": {
  "ExecuteTimeLog": [
   {
    "duration": 828,
    "start_time": "2021-11-16T09:21:11.304Z"
   },
   {
    "duration": 893,
    "start_time": "2021-11-16T09:21:17.728Z"
   },
   {
    "duration": 1150,
    "start_time": "2021-11-16T09:21:29.568Z"
   },
   {
    "duration": 3,
    "start_time": "2021-11-16T09:24:14.495Z"
   },
   {
    "duration": 120,
    "start_time": "2021-11-16T09:24:46.630Z"
   },
   {
    "duration": 3,
    "start_time": "2021-11-16T09:28:27.882Z"
   },
   {
    "duration": 4,
    "start_time": "2021-11-16T09:29:54.281Z"
   },
   {
    "duration": 3,
    "start_time": "2021-11-16T09:30:45.936Z"
   },
   {
    "duration": 4,
    "start_time": "2021-11-16T09:31:06.300Z"
   },
   {
    "duration": 113,
    "start_time": "2021-11-16T09:31:37.208Z"
   },
   {
    "duration": 143,
    "start_time": "2021-11-16T09:31:48.656Z"
   },
   {
    "duration": 98,
    "start_time": "2021-11-16T09:31:55.678Z"
   },
   {
    "duration": 3,
    "start_time": "2021-11-16T09:32:08.535Z"
   },
   {
    "duration": 111,
    "start_time": "2021-11-16T09:32:10.120Z"
   },
   {
    "duration": 3,
    "start_time": "2021-11-16T09:32:15.732Z"
   },
   {
    "duration": 4,
    "start_time": "2021-11-16T09:32:29.423Z"
   },
   {
    "duration": 3,
    "start_time": "2021-11-16T10:03:03.074Z"
   },
   {
    "duration": 3,
    "start_time": "2021-11-16T10:10:01.288Z"
   },
   {
    "duration": 3,
    "start_time": "2021-11-16T10:10:46.923Z"
   },
   {
    "duration": 121,
    "start_time": "2021-11-16T10:37:46.494Z"
   },
   {
    "duration": 125,
    "start_time": "2021-11-16T10:38:20.632Z"
   },
   {
    "duration": 112,
    "start_time": "2021-11-16T10:46:53.001Z"
   },
   {
    "duration": 110,
    "start_time": "2021-11-16T10:48:25.775Z"
   },
   {
    "duration": 3,
    "start_time": "2021-11-16T10:50:18.720Z"
   },
   {
    "duration": 4,
    "start_time": "2021-11-16T10:50:37.649Z"
   },
   {
    "duration": 2,
    "start_time": "2021-11-16T10:50:51.884Z"
   },
   {
    "duration": 3,
    "start_time": "2021-11-16T10:51:56.237Z"
   },
   {
    "duration": 101,
    "start_time": "2021-11-16T10:53:13.791Z"
   },
   {
    "duration": 3,
    "start_time": "2021-11-16T10:55:59.186Z"
   },
   {
    "duration": 3,
    "start_time": "2021-11-16T10:56:10.751Z"
   },
   {
    "duration": 3,
    "start_time": "2021-11-16T10:56:49.038Z"
   },
   {
    "duration": 3,
    "start_time": "2021-11-16T10:56:49.174Z"
   },
   {
    "duration": 4,
    "start_time": "2021-11-16T10:56:49.414Z"
   },
   {
    "duration": 3,
    "start_time": "2021-11-16T10:56:49.680Z"
   },
   {
    "duration": 3,
    "start_time": "2021-11-16T10:56:50.370Z"
   },
   {
    "duration": 114,
    "start_time": "2021-11-16T10:59:34.518Z"
   },
   {
    "duration": 3,
    "start_time": "2021-11-16T11:01:41.201Z"
   },
   {
    "duration": 116,
    "start_time": "2021-11-16T11:01:48.754Z"
   },
   {
    "duration": 3,
    "start_time": "2021-11-16T11:02:16.685Z"
   },
   {
    "duration": 3,
    "start_time": "2021-11-16T11:02:19.479Z"
   },
   {
    "duration": 3,
    "start_time": "2021-11-16T11:02:47.067Z"
   },
   {
    "duration": 3,
    "start_time": "2021-11-16T11:02:49.353Z"
   },
   {
    "duration": 3,
    "start_time": "2021-11-16T11:03:07.835Z"
   },
   {
    "duration": 3,
    "start_time": "2021-11-16T11:03:07.953Z"
   },
   {
    "duration": 112,
    "start_time": "2021-11-16T11:07:52.072Z"
   },
   {
    "duration": 187,
    "start_time": "2021-11-16T11:09:23.468Z"
   },
   {
    "duration": 4,
    "start_time": "2021-11-16T11:10:01.455Z"
   },
   {
    "duration": 3,
    "start_time": "2021-11-16T11:10:05.069Z"
   },
   {
    "duration": 4,
    "start_time": "2021-11-16T11:10:13.376Z"
   },
   {
    "duration": 3,
    "start_time": "2021-11-16T11:10:14.434Z"
   },
   {
    "duration": 3,
    "start_time": "2021-11-16T11:10:22.853Z"
   },
   {
    "duration": 4,
    "start_time": "2021-11-16T11:27:29.279Z"
   },
   {
    "duration": 4,
    "start_time": "2021-11-16T11:29:08.919Z"
   },
   {
    "duration": 118,
    "start_time": "2021-11-16T11:29:46.703Z"
   },
   {
    "duration": 437,
    "start_time": "2021-11-16T11:36:02.181Z"
   },
   {
    "duration": 157,
    "start_time": "2021-11-16T11:36:14.388Z"
   },
   {
    "duration": 207,
    "start_time": "2021-11-16T11:47:15.898Z"
   },
   {
    "duration": 3,
    "start_time": "2021-11-16T11:53:52.092Z"
   },
   {
    "duration": 3,
    "start_time": "2021-11-16T11:53:52.236Z"
   },
   {
    "duration": 3,
    "start_time": "2021-11-16T11:59:12.005Z"
   },
   {
    "duration": 112,
    "start_time": "2021-11-16T12:00:33.446Z"
   },
   {
    "duration": 3,
    "start_time": "2021-11-16T12:02:14.453Z"
   },
   {
    "duration": 3,
    "start_time": "2021-11-16T12:02:39.512Z"
   },
   {
    "duration": 106,
    "start_time": "2021-11-16T12:03:03.460Z"
   },
   {
    "duration": 3,
    "start_time": "2021-11-17T20:37:21.139Z"
   },
   {
    "duration": 3,
    "start_time": "2021-11-17T20:37:22.229Z"
   },
   {
    "duration": 3,
    "start_time": "2021-11-17T20:38:38.806Z"
   },
   {
    "duration": 3,
    "start_time": "2021-11-17T20:38:41.958Z"
   },
   {
    "duration": 3,
    "start_time": "2021-11-17T20:43:46.551Z"
   },
   {
    "duration": 4,
    "start_time": "2021-11-17T20:58:21.835Z"
   },
   {
    "duration": 3,
    "start_time": "2021-11-17T20:59:21.872Z"
   },
   {
    "duration": 4,
    "start_time": "2021-11-17T20:59:45.352Z"
   },
   {
    "duration": 4,
    "start_time": "2021-11-17T20:59:49.646Z"
   },
   {
    "duration": 159,
    "start_time": "2021-11-17T21:02:26.949Z"
   },
   {
    "duration": 3,
    "start_time": "2021-11-17T21:03:53.461Z"
   },
   {
    "duration": 3,
    "start_time": "2021-11-17T21:03:53.694Z"
   },
   {
    "duration": 3,
    "start_time": "2021-11-17T21:05:28.145Z"
   },
   {
    "duration": 116,
    "start_time": "2021-11-17T21:05:57.787Z"
   },
   {
    "duration": 3,
    "start_time": "2021-11-17T21:06:37.993Z"
   },
   {
    "duration": 3,
    "start_time": "2021-11-17T21:06:38.261Z"
   },
   {
    "duration": 3,
    "start_time": "2021-11-17T21:11:54.358Z"
   },
   {
    "duration": 3,
    "start_time": "2021-11-17T21:12:43.846Z"
   },
   {
    "duration": 4,
    "start_time": "2021-11-17T21:13:08.773Z"
   },
   {
    "duration": 3,
    "start_time": "2021-11-17T21:14:44.441Z"
   },
   {
    "duration": 3,
    "start_time": "2021-11-17T21:15:42.059Z"
   },
   {
    "duration": 4,
    "start_time": "2021-11-17T21:15:51.995Z"
   },
   {
    "duration": 3,
    "start_time": "2021-11-17T21:15:53.923Z"
   },
   {
    "duration": 3,
    "start_time": "2021-11-17T21:15:55.282Z"
   },
   {
    "duration": 3,
    "start_time": "2021-11-17T21:16:28.492Z"
   },
   {
    "duration": 3,
    "start_time": "2021-11-17T21:16:32.603Z"
   },
   {
    "duration": 3,
    "start_time": "2021-11-17T21:17:06.941Z"
   },
   {
    "duration": 98,
    "start_time": "2021-11-17T21:18:05.733Z"
   },
   {
    "duration": 4,
    "start_time": "2021-11-17T21:21:35.255Z"
   },
   {
    "duration": 3,
    "start_time": "2021-11-17T21:21:37.804Z"
   },
   {
    "duration": 4,
    "start_time": "2021-11-17T21:23:06.071Z"
   },
   {
    "duration": 3,
    "start_time": "2021-11-17T21:23:24.799Z"
   },
   {
    "duration": 3,
    "start_time": "2021-11-17T21:23:32.591Z"
   },
   {
    "duration": 98,
    "start_time": "2021-11-17T21:28:31.559Z"
   },
   {
    "duration": 3,
    "start_time": "2021-11-17T21:28:45.448Z"
   },
   {
    "duration": 3,
    "start_time": "2021-11-17T21:29:17.303Z"
   },
   {
    "duration": 3,
    "start_time": "2021-11-17T21:29:29.617Z"
   },
   {
    "duration": 3,
    "start_time": "2021-11-17T21:29:32.681Z"
   },
   {
    "duration": 3,
    "start_time": "2021-11-17T21:36:11.474Z"
   },
   {
    "duration": 3,
    "start_time": "2021-11-17T21:36:14.791Z"
   },
   {
    "duration": 3,
    "start_time": "2021-11-17T21:36:53.943Z"
   },
   {
    "duration": 3,
    "start_time": "2021-11-17T21:36:56.165Z"
   },
   {
    "duration": 4,
    "start_time": "2021-11-17T21:37:16.590Z"
   },
   {
    "duration": 3,
    "start_time": "2021-11-17T21:37:22.702Z"
   },
   {
    "duration": 4,
    "start_time": "2021-11-17T21:38:03.479Z"
   },
   {
    "duration": 3,
    "start_time": "2021-11-17T21:38:08.601Z"
   },
   {
    "duration": 3,
    "start_time": "2021-11-17T21:38:12.928Z"
   },
   {
    "duration": 3,
    "start_time": "2021-11-17T21:38:48.896Z"
   },
   {
    "duration": 2,
    "start_time": "2021-11-17T21:38:49.171Z"
   },
   {
    "duration": 4,
    "start_time": "2021-11-17T21:39:57.889Z"
   },
   {
    "duration": 3,
    "start_time": "2021-11-17T21:39:58.057Z"
   },
   {
    "duration": 3,
    "start_time": "2021-11-17T21:41:20.108Z"
   },
   {
    "duration": 3,
    "start_time": "2021-11-17T21:41:20.629Z"
   },
   {
    "duration": 3,
    "start_time": "2021-11-17T21:42:49.136Z"
   },
   {
    "duration": 3,
    "start_time": "2021-11-17T21:43:15.137Z"
   },
   {
    "duration": 4,
    "start_time": "2021-11-17T21:43:16.766Z"
   },
   {
    "duration": 4,
    "start_time": "2021-11-17T21:43:31.711Z"
   },
   {
    "duration": 3,
    "start_time": "2021-11-17T21:43:36.312Z"
   },
   {
    "duration": 4,
    "start_time": "2021-11-17T21:45:08.825Z"
   },
   {
    "duration": 4,
    "start_time": "2021-11-17T21:45:10.119Z"
   },
   {
    "duration": 4,
    "start_time": "2021-11-17T21:45:13.748Z"
   },
   {
    "duration": 3,
    "start_time": "2021-11-17T21:45:22.219Z"
   },
   {
    "duration": 3,
    "start_time": "2021-11-17T21:45:33.412Z"
   },
   {
    "duration": 2,
    "start_time": "2021-11-17T21:46:01.885Z"
   },
   {
    "duration": 3,
    "start_time": "2021-11-17T21:46:03.628Z"
   },
   {
    "duration": 107,
    "start_time": "2021-11-17T21:47:32.512Z"
   },
   {
    "duration": 103,
    "start_time": "2021-11-17T21:50:36.243Z"
   },
   {
    "duration": 3,
    "start_time": "2021-11-18T06:28:31.440Z"
   },
   {
    "duration": 3,
    "start_time": "2021-11-18T06:29:00.168Z"
   },
   {
    "duration": 3,
    "start_time": "2021-11-18T06:31:27.008Z"
   },
   {
    "duration": 2,
    "start_time": "2021-11-18T06:35:34.288Z"
   },
   {
    "duration": 2,
    "start_time": "2021-11-18T06:38:04.527Z"
   }
  ],
  "colab": {
   "provenance": []
  },
  "kernelspec": {
   "display_name": "Python 3",
   "language": "python",
   "name": "python3"
  },
  "language_info": {
   "codemirror_mode": {
    "name": "ipython",
    "version": 3
   },
   "file_extension": ".py",
   "mimetype": "text/x-python",
   "name": "python",
   "nbconvert_exporter": "python",
   "pygments_lexer": "ipython3",
   "version": "3.13.1"
  },
  "toc": {
   "base_numbering": 1,
   "nav_menu": {},
   "number_sections": true,
   "sideBar": true,
   "skip_h1_title": false,
   "title_cell": "Table of Contents",
   "title_sidebar": "Contents",
   "toc_cell": false,
   "toc_position": {},
   "toc_section_display": true,
   "toc_window_display": true
  }
 },
 "nbformat": 4,
 "nbformat_minor": 1
}
